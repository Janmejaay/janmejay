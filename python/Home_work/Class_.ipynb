{
  "nbformat": 4,
  "nbformat_minor": 0,
  "metadata": {
    "colab": {
      "provenance": []
    },
    "kernelspec": {
      "name": "python3",
      "display_name": "Python 3"
    },
    "language_info": {
      "name": "python"
    }
  },
  "cells": [
    {
      "cell_type": "code",
      "execution_count": 2,
      "metadata": {
        "id": "tebjHOgrCMDL"
      },
      "outputs": [],
      "source": [
        "class dog:\n",
        "  def xyz(breed,name):\n",
        "    breed_a=breed\n",
        "    name_a=name\n",
        "    print(breed_a)"
      ]
    },
    {
      "cell_type": "code",
      "source": [
        "jay_dog=dog()\n",
        "jay_dog.breed=\"Lab\"\n",
        "jay_dog.name=\"Kallu\""
      ],
      "metadata": {
        "id": "m-PH1LdXCM_S"
      },
      "execution_count": null,
      "outputs": []
    },
    {
      "cell_type": "code",
      "source": [
        "jay_dog.name"
      ],
      "metadata": {
        "id": "mA4HmA3CCNBo"
      },
      "execution_count": null,
      "outputs": []
    },
    {
      "cell_type": "code",
      "source": [
        "total_price=abhi.price+jj.price+jay.price"
      ],
      "metadata": {
        "id": "9AW8lfo9CNDj"
      },
      "execution_count": null,
      "outputs": []
    },
    {
      "cell_type": "code",
      "source": [],
      "metadata": {
        "id": "mDmHGDjyCNFv"
      },
      "execution_count": null,
      "outputs": []
    },
    {
      "cell_type": "code",
      "source": [
        "class mobile:\n",
        "  def __init__ (self,model,price):\n",
        "    self.model=model\n",
        "    self.price=price\n",
        "\n",
        "def info(self):\n",
        "  print(self.model, \"price is \", self.price)\n",
        "\n",
        "def with_discount(self,discount):\n",
        "  self.discount=discount\n",
        "  self.discount_price=(self.price/100)*(100-self.discount)\n",
        "  print(\"Final Price = \",self.discount_price)"
      ],
      "metadata": {
        "id": "51aPfYTcCNIG"
      },
      "execution_count": 6,
      "outputs": []
    },
    {
      "cell_type": "code",
      "source": [
        "a=mobile(\"samsung\",499)\n",
        "\n",
        "info(a)"
      ],
      "metadata": {
        "colab": {
          "base_uri": "https://localhost:8080/"
        },
        "id": "YAihacT1CNKV",
        "outputId": "52c32ef6-acd4-488e-ae9f-47d39aff7189"
      },
      "execution_count": 14,
      "outputs": [
        {
          "output_type": "stream",
          "name": "stdout",
          "text": [
            "samsung price is  499\n"
          ]
        }
      ]
    },
    {
      "cell_type": "code",
      "source": [
        "info(a)\n",
        "with_discount(a,50)"
      ],
      "metadata": {
        "colab": {
          "base_uri": "https://localhost:8080/"
        },
        "id": "LK8CbBaBCNMt",
        "outputId": "00f13a2e-4451-48ab-f8de-9b34f81b9c99"
      },
      "execution_count": 23,
      "outputs": [
        {
          "output_type": "stream",
          "name": "stdout",
          "text": [
            "samsung price is  499\n",
            "Final Price =  249.5\n"
          ]
        }
      ]
    },
    {
      "cell_type": "markdown",
      "source": [
        "##Question 1: Define a class named Car with attributes make, model, and year. Include a\n",
        "method called get_info() that prints out the details of the car. Create an instance of the Car\n",
        "class and call the get_info() method."
      ],
      "metadata": {
        "id": "fq_Svt0fRFFy"
      }
    },
    {
      "cell_type": "code",
      "source": [
        "class Car:\n",
        "  def __init__(self,make,model,year):\n",
        "     self.model=model\n",
        "     self.year=year\n",
        "     self.make=make\n",
        "\n",
        "  def get_info(self):\n",
        "    print(\"It is a \",self.make, self.model,\"it was Manufactured in \",self.year)"
      ],
      "metadata": {
        "id": "mAwFp08LCNOv"
      },
      "execution_count": 59,
      "outputs": []
    },
    {
      "cell_type": "code",
      "source": [
        "car1=Car(\"BMW\",\"M5CS\",2024)"
      ],
      "metadata": {
        "id": "lRZBItLSCNQ-"
      },
      "execution_count": 60,
      "outputs": []
    },
    {
      "cell_type": "markdown",
      "source": [],
      "metadata": {
        "id": "J5irRF6CNaMY"
      }
    },
    {
      "cell_type": "code",
      "source": [
        "BMW.get_info()"
      ],
      "metadata": {
        "colab": {
          "base_uri": "https://localhost:8080/"
        },
        "id": "3vq2rIM_CNTS",
        "outputId": "7ab9fbf9-d0ee-4e09-e2c2-957f3244b16c"
      },
      "execution_count": 61,
      "outputs": [
        {
          "output_type": "stream",
          "name": "stdout",
          "text": [
            "It is a  BMW M5CS it was Manufactured in  2024\n"
          ]
        }
      ]
    },
    {
      "cell_type": "code",
      "source": [],
      "metadata": {
        "id": "7u8y9815CNVo"
      },
      "execution_count": null,
      "outputs": []
    },
    {
      "cell_type": "markdown",
      "source": [
        "##Question 2: Create a class named Rectangle with attributes length and width. Include\n",
        "methods to calculate the area and perimeter of the rectangle. Create an instance of the\n",
        "Rectangle class with length 5 and width 3, then print its area and perimeter."
      ],
      "metadata": {
        "id": "YFCKzS_LOBi6"
      }
    },
    {
      "cell_type": "code",
      "source": [
        "class Rectangle:\n",
        "  def __init__ (self,length,width):\n",
        "    self.length=length\n",
        "    self.width=width\n",
        "\n",
        "  def area(self):\n",
        "     print(\"The area of Rectangle is \",self.length*self.width)\n",
        "\n",
        "  def perimeter(self):\n",
        "     print(\"The Perimeter of Rectangle is \",2*(self.length+self.width))\n",
        "\n",
        "\n"
      ],
      "metadata": {
        "id": "x5oOziMTCNXy"
      },
      "execution_count": 69,
      "outputs": []
    },
    {
      "cell_type": "code",
      "source": [
        "rec1=Rectangle(3,4)"
      ],
      "metadata": {
        "id": "cnkhWA2LCNaA"
      },
      "execution_count": 70,
      "outputs": []
    },
    {
      "cell_type": "code",
      "source": [
        "rec1.area()\n",
        "rec1.perimeter()"
      ],
      "metadata": {
        "colab": {
          "base_uri": "https://localhost:8080/"
        },
        "id": "FDfXFd2ACNcT",
        "outputId": "8ac6a2b5-8c88-4d60-cc1d-b42a7f6e6467"
      },
      "execution_count": 71,
      "outputs": [
        {
          "output_type": "stream",
          "name": "stdout",
          "text": [
            "The area of Rectangle is  12\n",
            "The Perimeter of Rectangle is  14\n"
          ]
        }
      ]
    },
    {
      "cell_type": "markdown",
      "source": [
        "##Question 3: Define a class called Employee with attributes name, position, and salary.\n",
        "Include a method called raise_salary() that takes a percentage increase as an argument and\n",
        "updates the salary accordingly. Create an instance of the Employee class and call the\n",
        "raise_salary() method with a 10% increase."
      ],
      "metadata": {
        "id": "NDcfs1JfRMwA"
      }
    },
    {
      "cell_type": "code",
      "source": [
        "class Employee:\n",
        "  def __init__ (self,name,position,salary):\n",
        "    self.name=name\n",
        "    self.position=position\n",
        "    self.salary=salary\n",
        "\n",
        "  def raise_salary(self, increase):\n",
        "    self.salary = self.salary *.1 + self.salary\n",
        "    print(self.salary)\n",
        "\n",
        "\n"
      ],
      "metadata": {
        "id": "0u9DRmvdRNWj"
      },
      "execution_count": 8,
      "outputs": []
    },
    {
      "cell_type": "code",
      "source": [
        "Emp1=Employee(\"Jay\",\"Associate\",20000)"
      ],
      "metadata": {
        "id": "JXCaeX9RRNbE"
      },
      "execution_count": 14,
      "outputs": []
    },
    {
      "cell_type": "code",
      "source": [
        "Emp1.raise_salary(10)"
      ],
      "metadata": {
        "colab": {
          "base_uri": "https://localhost:8080/"
        },
        "id": "2tZGYe7lRNdi",
        "outputId": "9ab93563-8288-461c-da9b-c8a305ab9313"
      },
      "execution_count": 15,
      "outputs": [
        {
          "output_type": "stream",
          "name": "stdout",
          "text": [
            "22000.0\n"
          ]
        }
      ]
    },
    {
      "cell_type": "markdown",
      "source": [
        "##Question 4: Create a class named BankAccount with attributes account_number,\n",
        "holder_name, and balance. Include methods to deposit money, withdraw money, and check\n",
        "the balance. Create an instance of the BankAccount class, deposit $100, withdraw $50, and\n",
        "then print the remaining balance."
      ],
      "metadata": {
        "id": "k-j0I_GL2UJ-"
      }
    },
    {
      "cell_type": "code",
      "source": [
        "class BankAccount:\n",
        "  def __init__(self,ac_no,holder,balance):\n",
        "    self.ac_no = ac_no\n",
        "    self.holder = holder\n",
        "    self.balance = balance\n",
        "\n",
        "  def deposit(self,amount):\n",
        "    self.balance=self.balance+100\n",
        "    print(self.balance)\n",
        "\n",
        "\n",
        "  def withdraw(self,amt):\n",
        "    self.balance=self.balance-50\n",
        "    print(self.balance)\n",
        "\n"
      ],
      "metadata": {
        "id": "B_AQaj-IRNf4"
      },
      "execution_count": 35,
      "outputs": []
    },
    {
      "cell_type": "code",
      "source": [
        "jay=BankAccount(157600958931,\"Jay\",10000)"
      ],
      "metadata": {
        "id": "r-xWtPo0RNiL"
      },
      "execution_count": 36,
      "outputs": []
    },
    {
      "cell_type": "code",
      "source": [
        "jay.deposit(100)"
      ],
      "metadata": {
        "colab": {
          "base_uri": "https://localhost:8080/"
        },
        "id": "BrZBlQNtRNkk",
        "outputId": "c3e30ae9-af3f-461b-a80f-69acd4008cb1"
      },
      "execution_count": 37,
      "outputs": [
        {
          "output_type": "stream",
          "name": "stdout",
          "text": [
            "10100\n"
          ]
        }
      ]
    },
    {
      "cell_type": "code",
      "source": [
        "jay.withdraw(50)"
      ],
      "metadata": {
        "colab": {
          "base_uri": "https://localhost:8080/"
        },
        "id": "t4AjXkO-RNmt",
        "outputId": "795f144c-ea8f-46d2-dfb2-21db724e2848"
      },
      "execution_count": 38,
      "outputs": [
        {
          "output_type": "stream",
          "name": "stdout",
          "text": [
            "10050\n"
          ]
        }
      ]
    },
    {
      "cell_type": "markdown",
      "source": [
        "##Question 5: Define a class named Circle with attributes radius and color. Include methods to\n",
        "calculate the area and circumference of the circle. Create an instance of the Circle class with\n",
        "radius 5 and color \"blue\", then print its area and circumference."
      ],
      "metadata": {
        "id": "-ft7aw5K43u5"
      }
    },
    {
      "cell_type": "code",
      "source": [
        "class Circle:\n",
        "  def __init__(self,radius,color):\n",
        "    self.radius=radius\n",
        "    self.color=color\n",
        "\n",
        "  def area(self):\n",
        "    areac=(3.14*(self.radius**2))\n",
        "    print(areac)\n",
        "\n",
        "  def circum(self):\n",
        "    cir=(2*3.14*self.radius)\n",
        "    print(cir)"
      ],
      "metadata": {
        "id": "3eaHD3r7RNoz"
      },
      "execution_count": 54,
      "outputs": []
    },
    {
      "cell_type": "code",
      "source": [
        "circle2=Circle(4,\"blue\")"
      ],
      "metadata": {
        "id": "D61sEpCYRNrM"
      },
      "execution_count": 55,
      "outputs": []
    },
    {
      "cell_type": "code",
      "source": [
        "circle2.area()"
      ],
      "metadata": {
        "colab": {
          "base_uri": "https://localhost:8080/"
        },
        "id": "IAil0-TiRNta",
        "outputId": "5f85d258-5b78-4729-cf76-d67b6b2795c0"
      },
      "execution_count": 56,
      "outputs": [
        {
          "output_type": "stream",
          "name": "stdout",
          "text": [
            "50.24\n"
          ]
        }
      ]
    },
    {
      "cell_type": "code",
      "source": [
        "circle2.circum()"
      ],
      "metadata": {
        "colab": {
          "base_uri": "https://localhost:8080/"
        },
        "id": "dzEKOuvBRNv8",
        "outputId": "9b8da68f-b3df-4b28-e0c7-4e571db2bbd4"
      },
      "execution_count": 59,
      "outputs": [
        {
          "output_type": "stream",
          "name": "stdout",
          "text": [
            "25.12\n"
          ]
        }
      ]
    },
    {
      "cell_type": "markdown",
      "source": [
        "##Question 6: Create a class named Book with attributes title, author, and price. Include a\n",
        "method called discount() that takes a percentage discount as an argument and updates the\n",
        "price accordingly. Create an instance of the Book class and call the discount() method with a\n",
        "20% discount."
      ],
      "metadata": {
        "id": "u20MLN64899e"
      }
    },
    {
      "cell_type": "code",
      "source": [
        "class Book:\n",
        "  def __init__(self,title,author,price):\n",
        "    self.title=title\n",
        "    self.author=author\n",
        "    self.price=price\n",
        "\n",
        "  def discount(self,amount):\n",
        "    self.price=self.price*(1-amount)\n",
        "    print(self.price)"
      ],
      "metadata": {
        "id": "NO5BHZyM86L0"
      },
      "execution_count": 60,
      "outputs": []
    },
    {
      "cell_type": "code",
      "source": [
        "book1=Book(\"J\",\"Jay\",100)"
      ],
      "metadata": {
        "id": "Z62RNr3x86OO"
      },
      "execution_count": 61,
      "outputs": []
    },
    {
      "cell_type": "code",
      "source": [
        "book1.discount(.2)"
      ],
      "metadata": {
        "colab": {
          "base_uri": "https://localhost:8080/"
        },
        "id": "Rchc1scp86SS",
        "outputId": "fdbeaee5-1152-4363-ff0c-e1284fe16ab2"
      },
      "execution_count": 62,
      "outputs": [
        {
          "output_type": "stream",
          "name": "stdout",
          "text": [
            "80.0\n"
          ]
        }
      ]
    },
    {
      "cell_type": "markdown",
      "source": [
        "##Question 7: Define a class called Student with attributes name, age, and grades. Include a\n",
        "method called calculate_average() that computes the average grade of the student. Create\n",
        "an instance of the Student class with name \"Alice\", age 20, and grades [90, 85, 88], then\n",
        "print the average grade."
      ],
      "metadata": {
        "id": "hYr9lzWm_a06"
      }
    },
    {
      "cell_type": "code",
      "source": [
        "class Student:\n",
        "  def __init__(self,name,age,grade1,grade2,grade3):\n",
        "    self.name=name\n",
        "    self.age=age\n",
        "    self.grade1=grade1\n",
        "    self.grade2=grade2\n",
        "    self.grade3=grade3\n",
        "\n",
        "\n",
        "  def calculate_average(self):\n",
        "    avg=(self.grade1+self.grade2+self.grade3)/3\n",
        "    print(avg)\n",
        "\n",
        ""
      ],
      "metadata": {
        "id": "OCE9D6lL86Ux"
      },
      "execution_count": 63,
      "outputs": []
    },
    {
      "cell_type": "code",
      "source": [
        "Alice=Student(\"Alice\",20,90,85,88)"
      ],
      "metadata": {
        "id": "_KgZrQ9x86XD"
      },
      "execution_count": 65,
      "outputs": []
    },
    {
      "cell_type": "code",
      "source": [
        "Alice.calculate_average()"
      ],
      "metadata": {
        "colab": {
          "base_uri": "https://localhost:8080/"
        },
        "id": "0gVxCiBA86Zg",
        "outputId": "4fa8c581-fbcc-4d1f-c29b-5cf8b6564195"
      },
      "execution_count": 66,
      "outputs": [
        {
          "output_type": "stream",
          "name": "stdout",
          "text": [
            "87.66666666666667\n"
          ]
        }
      ]
    },
    {
      "cell_type": "markdown",
      "source": [
        "##Question 8: Create a class named Rectangle with attributes length and width. Include\n",
        "methods to calculate the area, perimeter, and diagonal of the rectangle. Create an instance\n",
        "of the Rectangle class with length 4 and width 3, then print its area, perimeter, and diagonal."
      ],
      "metadata": {
        "id": "QmMFLnsrDyZ_"
      }
    },
    {
      "cell_type": "code",
      "source": [
        "class Rectangle:\n",
        "  def __init__(self,length,width):\n",
        "    self.length=length\n",
        "    self.width=width\n",
        "\n",
        "  def arear(self):\n",
        "    area=(self.length*self.width)\n",
        "    print(area)\n",
        "\n",
        "  def peri(self):\n",
        "    perimeter=(2*(self.length+self.width))\n",
        "    print(perimeter)\n",
        "\n",
        "  def diagonal(self):\n",
        "    dia=((self.length**2)+(self.width**2))\n",
        "    print(dia)\n",
        "\n",
        ""
      ],
      "metadata": {
        "id": "szYMen1f86bt"
      },
      "execution_count": 67,
      "outputs": []
    },
    {
      "cell_type": "code",
      "source": [
        "rec1=Rectangle(3,4)"
      ],
      "metadata": {
        "id": "BqunBK5h86eS"
      },
      "execution_count": 68,
      "outputs": []
    },
    {
      "cell_type": "code",
      "source": [
        "rec1.arear()"
      ],
      "metadata": {
        "colab": {
          "base_uri": "https://localhost:8080/"
        },
        "id": "M9JInziA86gc",
        "outputId": "49ba539d-52e2-417f-89b8-ba96d8388140"
      },
      "execution_count": 70,
      "outputs": [
        {
          "output_type": "stream",
          "name": "stdout",
          "text": [
            "12\n"
          ]
        }
      ]
    },
    {
      "cell_type": "code",
      "source": [
        "rec1.peri()"
      ],
      "metadata": {
        "colab": {
          "base_uri": "https://localhost:8080/"
        },
        "id": "KGt3Twcx86i3",
        "outputId": "8f90ffaf-13ee-48af-d045-aba6dba02fab"
      },
      "execution_count": 71,
      "outputs": [
        {
          "output_type": "stream",
          "name": "stdout",
          "text": [
            "14\n"
          ]
        }
      ]
    },
    {
      "cell_type": "code",
      "source": [
        "rec1.diagonal()"
      ],
      "metadata": {
        "colab": {
          "base_uri": "https://localhost:8080/"
        },
        "id": "Yhtdyyq486lA",
        "outputId": "40c99937-1ecf-4cc5-ef50-5e527b7f2b93"
      },
      "execution_count": 72,
      "outputs": [
        {
          "output_type": "stream",
          "name": "stdout",
          "text": [
            "25\n"
          ]
        }
      ]
    },
    {
      "cell_type": "markdown",
      "source": [
        "##Question 9: Define a class named Person with attributes name, age, and gender. Include\n",
        "methods to update the age and display information about the person. Create an instance of\n",
        "the Person class with name \"Alice\", age 25, and gender \"Female\". Update the age to 30 and\n",
        "display the information about the person."
      ],
      "metadata": {
        "id": "D9DO-FSaFOCs"
      }
    },
    {
      "cell_type": "code",
      "source": [
        "class Person:\n",
        "  def __init__(self, name, age, gender):\n",
        "    self.name = name\n",
        "    self.age = age\n",
        "    self.gender = gender\n",
        "\n",
        "  def update_age(self, new_age):\n",
        "    self.age = new_age\n",
        "\n",
        "  def display_info(self):\n",
        "    print(\"Name:\", self.name,\"Age:\",self.age, \"Gender:\",self.gender)"
      ],
      "metadata": {
        "id": "drIk-e2C86nr"
      },
      "execution_count": 100,
      "outputs": []
    },
    {
      "cell_type": "code",
      "source": [
        "p1=Person(\"Alice\",25,\"Female\")"
      ],
      "metadata": {
        "id": "M8xR0IX786py"
      },
      "execution_count": 95,
      "outputs": []
    },
    {
      "cell_type": "code",
      "source": [
        "p1.update_age(30)"
      ],
      "metadata": {
        "id": "ch1t1ONg86sK"
      },
      "execution_count": 96,
      "outputs": []
    },
    {
      "cell_type": "code",
      "source": [
        "p1.display_info()"
      ],
      "metadata": {
        "colab": {
          "base_uri": "https://localhost:8080/"
        },
        "id": "97cR2W4D86uU",
        "outputId": "9e4d4a04-a30c-4d47-8e14-2d0c20978551"
      },
      "execution_count": 102,
      "outputs": [
        {
          "output_type": "stream",
          "name": "stdout",
          "text": [
            "Name:  Alice Age:  30 Gender:  Female\n"
          ]
        }
      ]
    },
    {
      "cell_type": "markdown",
      "source": [
        "##Question 10: Create a class named BankAccount with attributes account_number,\n",
        "account_holder, and balance. Include methods to deposit and withdraw money, and to\n",
        "display the account details. Create two instances of the BankAccount class, one for savings\n",
        "account and one for checking account, and perform deposit and withdrawal operations on\n",
        "each."
      ],
      "metadata": {
        "id": "TWTelvGpJLiZ"
      }
    },
    {
      "cell_type": "code",
      "source": [
        "class BankAccount:\n",
        "    def __init__(self, account_number, account_holder, balance):\n",
        "        self.account_number = account_number\n",
        "        self.account_holder = account_holder\n",
        "        self.balance = balance\n",
        "\n",
        "    def deposit(self, amount):\n",
        "        self.balance =self.balance+ amount\n",
        "\n",
        "    def withdraw(self, amount):\n",
        "        if amount <= self.balance:\n",
        "            self.balance =self.balance- amount\n",
        "        else:\n",
        "            print(\"Insufficient funds\")\n",
        "\n",
        "    def display_details(self):\n",
        "        print(\"Account Number:\", self.account_number)\n",
        "        print(\"Account Holder:\", self.account_holder)\n",
        "        print(\"Balance:\", self.balance)"
      ],
      "metadata": {
        "id": "phoBU8FD861r"
      },
      "execution_count": 103,
      "outputs": []
    },
    {
      "cell_type": "code",
      "source": [
        "savings=BankAccount(123,\"Jay\",10000)\n",
        "checkings=BankAccount(455,\"Janmejay\",100000)"
      ],
      "metadata": {
        "id": "wr0dOr2f863z"
      },
      "execution_count": 104,
      "outputs": []
    },
    {
      "cell_type": "code",
      "source": [
        "savings.deposit(1000)\n",
        "checkings.deposit(2000)\n",
        "savings.display_details()\n",
        "checkings.display_details()"
      ],
      "metadata": {
        "colab": {
          "base_uri": "https://localhost:8080/"
        },
        "id": "T0k9MUnR866L",
        "outputId": "37e80abf-b2b2-4154-926a-98815ce45d0f"
      },
      "execution_count": 105,
      "outputs": [
        {
          "output_type": "stream",
          "name": "stdout",
          "text": [
            "Account Number: 123\n",
            "Account Holder: Jay\n",
            "Balance: 11000\n",
            "Account Number: 455\n",
            "Account Holder: Janmejay\n",
            "Balance: 102000\n"
          ]
        }
      ]
    },
    {
      "cell_type": "markdown",
      "source": [
        "##Question 11: Define a class called Rectangle with attributes length and width. Include\n",
        "methods to calculate the area and perimeter of the rectangle, and to display its dimensions.\n",
        "Create an instance of the Rectangle class with length 4 and width 5, then print its area,\n",
        "perimeter, and dimensions."
      ],
      "metadata": {
        "id": "Vmg9nbJ1Kt_8"
      }
    },
    {
      "cell_type": "code",
      "source": [
        "class Rectangle:\n",
        "  def __init__(self, length, width):\n",
        "    self.length = length\n",
        "    self.width = width\n",
        "\n",
        "  def area(self):\n",
        "    return self.length * self.width\n",
        "\n",
        "  def perimeter(self):\n",
        "    return 2 * (self.length + self.width)\n",
        "\n",
        "  def display_dimensions(self):\n",
        "    print(\"Length:\", self.length)\n",
        "    print(\"Width:\", self.width)\n",
        "\n",
        "\n",
        "\n"
      ],
      "metadata": {
        "id": "tTIOO7OoKrwQ"
      },
      "execution_count": 107,
      "outputs": []
    },
    {
      "cell_type": "code",
      "source": [
        "rectangle = Rectangle(4, 5)"
      ],
      "metadata": {
        "id": "Vtf7wdekKryL"
      },
      "execution_count": 108,
      "outputs": []
    },
    {
      "cell_type": "code",
      "source": [
        "print(\"Area:\", rectangle.area())\n",
        "\n",
        "print(\"Perimeter:\", rectangle.perimeter())\n",
        "\n",
        "rectangle.display_dimensions()"
      ],
      "metadata": {
        "colab": {
          "base_uri": "https://localhost:8080/"
        },
        "id": "rj-dQIjlKr0q",
        "outputId": "3c50eaa8-5456-48ae-ad49-2dcb61bae5b0"
      },
      "execution_count": 109,
      "outputs": [
        {
          "output_type": "stream",
          "name": "stdout",
          "text": [
            "Area: 20\n",
            "Perimeter: 18\n",
            "Length: 4\n",
            "Width: 5\n"
          ]
        }
      ]
    },
    {
      "cell_type": "markdown",
      "source": [
        "##Question 12: Create a class named Student with attributes name, roll_number, and grades.\n",
        "Include methods to add grades, calculate the average grade, and display the student's\n",
        "information. Create an instance of the Student class with name \"John\", roll number \"12345\",\n",
        "and grades [85, 90, 88]. Add another grade (95), calculate the average grade, and display the\n",
        "student's information."
      ],
      "metadata": {
        "id": "6maNolvVLKCJ"
      }
    },
    {
      "cell_type": "code",
      "source": [
        "class Student:\n",
        "  def __init__(self, name, roll_number, grades):\n",
        "    self.name = name\n",
        "    self.roll_number = roll_number\n",
        "    self.grades = grades\n",
        "\n",
        "  def add_grade(self, grade):\n",
        "    self.grades.append(grade)\n",
        "\n",
        "  def calculate_average_grade(self):\n",
        "    total_grades = sum(self.grades)\n",
        "    average_grade = total_grades / len(self.grades)\n",
        "    return average_grade\n",
        "\n",
        "  def display_information(self):\n",
        "    print(\"Name:\", self.name)\n",
        "    print(\"Roll Number:\", self.roll_number)\n",
        "    print(\"Grades:\", self.grades)\n",
        "    print(\"Average Grade:\", self.calculate_average_grade())\n",
        "\n"
      ],
      "metadata": {
        "id": "YXueQIBJKr5N"
      },
      "execution_count": 110,
      "outputs": []
    },
    {
      "cell_type": "code",
      "source": [
        "student = Student(\"John\", \"12345\", [85, 90, 88])"
      ],
      "metadata": {
        "id": "2CNLZBg3Kr7p"
      },
      "execution_count": 111,
      "outputs": []
    },
    {
      "cell_type": "code",
      "source": [
        "student.add_grade(95)"
      ],
      "metadata": {
        "id": "tAXYPhlYKr94"
      },
      "execution_count": 112,
      "outputs": []
    },
    {
      "cell_type": "code",
      "source": [
        "student.display_information()"
      ],
      "metadata": {
        "colab": {
          "base_uri": "https://localhost:8080/"
        },
        "id": "oaFbnsRVKsAU",
        "outputId": "a49d26db-cc9e-4675-a931-d1fcb9f828b6"
      },
      "execution_count": 113,
      "outputs": [
        {
          "output_type": "stream",
          "name": "stdout",
          "text": [
            "Name: John\n",
            "Roll Number: 12345\n",
            "Grades: [85, 90, 88, 95]\n",
            "Average Grade: 89.5\n"
          ]
        }
      ]
    },
    {
      "cell_type": "markdown",
      "source": [
        "##Question 13: Define a class called Triangle with attributes side1, side2, and side3. Include\n",
        "methods to check if the triangle is valid, calculate its perimeter, area, and display its sides.\n",
        "Create an instance of the Triangle class with side lengths 3, 4, and 5, then check if it is valid,\n",
        "calculate its perimeter and area, and display its sides."
      ],
      "metadata": {
        "id": "9aTWhOtXLjGy"
      }
    },
    {
      "cell_type": "code",
      "source": [
        "class Triangle:\n",
        "  def __init__(self, side1, side2, side3):\n",
        "    self.side1 = side1\n",
        "    self.side2 = side2\n",
        "    self.side3 = side3\n",
        "\n",
        "  def is_valid(self):\n",
        "    return self.side1 + self.side2 > self.side3 and self.side1 + self.side3 > self.side2 and self.side2 + self.side3 > self.side1\n",
        "\n",
        "  def calculate_perimeter(self):\n",
        "    return self.side1 + self.side2 + self.side3\n",
        "\n",
        "  def calculate_area(self):\n",
        "    s = (self.side1 + self.side2 + self.side3) / 2\n",
        "    return (s * (s - self.side1) * (s - self.side2) * (s - self.side3)) ** 0.5\n",
        "\n",
        "  def display_sides(self):\n",
        "    print(\"Side 1:\", self.side1)\n",
        "    print(\"Side 2:\", self.side2)\n",
        "    print(\"Side 3:\", self.side3)\n",
        "\n",
        "\n"
      ],
      "metadata": {
        "id": "eH3fPBIFKsEx"
      },
      "execution_count": 114,
      "outputs": []
    },
    {
      "cell_type": "code",
      "source": [
        "triangle = Triangle(3, 4, 5)\n"
      ],
      "metadata": {
        "id": "OLWEMpIbKsHB"
      },
      "execution_count": 115,
      "outputs": []
    },
    {
      "cell_type": "code",
      "source": [
        "if triangle.is_valid():\n",
        "  print(\"Triangle is valid.\")\n",
        "  print(\"Perimeter:\", triangle.calculate_perimeter())\n",
        "  print(\"Area:\", triangle.calculate_area())\n",
        "  triangle.display_sides()\n",
        "else:\n",
        "  print(\"Triangle is not valid.\")"
      ],
      "metadata": {
        "colab": {
          "base_uri": "https://localhost:8080/"
        },
        "id": "yzcZ-Z3QKsJP",
        "outputId": "e0369dad-00d2-4969-96e9-eddff97ce3a9"
      },
      "execution_count": 116,
      "outputs": [
        {
          "output_type": "stream",
          "name": "stdout",
          "text": [
            "Triangle is valid.\n",
            "Perimeter: 12\n",
            "Area: 6.0\n",
            "Side 1: 3\n",
            "Side 2: 4\n",
            "Side 3: 5\n"
          ]
        }
      ]
    },
    {
      "cell_type": "code",
      "source": [],
      "metadata": {
        "id": "2hCOkLJeKsLj"
      },
      "execution_count": null,
      "outputs": []
    },
    {
      "cell_type": "code",
      "source": [],
      "metadata": {
        "id": "z8lMWlXHKsNs"
      },
      "execution_count": null,
      "outputs": []
    },
    {
      "cell_type": "code",
      "source": [],
      "metadata": {
        "id": "vxB-gbddKsPv"
      },
      "execution_count": null,
      "outputs": []
    },
    {
      "cell_type": "code",
      "source": [],
      "metadata": {
        "id": "DejS4GkA868Q"
      },
      "execution_count": null,
      "outputs": []
    },
    {
      "cell_type": "code",
      "source": [],
      "metadata": {
        "id": "xhDkmsot86-o"
      },
      "execution_count": null,
      "outputs": []
    },
    {
      "cell_type": "code",
      "source": [],
      "metadata": {
        "id": "yoincIaFRNx0"
      },
      "execution_count": null,
      "outputs": []
    },
    {
      "cell_type": "code",
      "source": [],
      "metadata": {
        "id": "w29w-n9nRN0I"
      },
      "execution_count": null,
      "outputs": []
    }
  ]
}