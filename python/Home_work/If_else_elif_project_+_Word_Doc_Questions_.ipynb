{
  "nbformat": 4,
  "nbformat_minor": 0,
  "metadata": {
    "colab": {
      "provenance": []
    },
    "kernelspec": {
      "name": "python3",
      "display_name": "Python 3"
    },
    "language_info": {
      "name": "python"
    }
  },
  "cells": [
    {
      "cell_type": "code",
      "execution_count": null,
      "metadata": {
        "id": "Ni4zumAynpoh"
      },
      "outputs": [],
      "source": [
        "## 1 -simple if\n",
        "## 2- if else\n",
        "## 3- if elif - else"
      ]
    },
    {
      "cell_type": "code",
      "source": [
        "\n",
        "## simple if\n",
        "a= 100\n",
        "b= 20\n",
        "if a>b:\n",
        "  ans=a-b\n",
        "  print(ans)\n"
      ],
      "metadata": {
        "colab": {
          "base_uri": "https://localhost:8080/"
        },
        "id": "8B05lk_fqe4G",
        "outputId": "dfaba45c-8220-47bd-9de4-e843831cb9b1"
      },
      "execution_count": null,
      "outputs": [
        {
          "output_type": "stream",
          "name": "stdout",
          "text": [
            "80\n"
          ]
        }
      ]
    },
    {
      "cell_type": "code",
      "source": [
        "## if else\n",
        "a= 100\n",
        "b= 20\n",
        "if a>b:\n",
        "  ans=a-b\n",
        "  print(ans)\n",
        "else:\n",
        "  print(\"addition =\",a+b)"
      ],
      "metadata": {
        "colab": {
          "base_uri": "https://localhost:8080/"
        },
        "id": "dEaD8V2lqe50",
        "outputId": "505d5535-df1e-4809-fdea-03fa7e44de7d"
      },
      "execution_count": null,
      "outputs": [
        {
          "output_type": "stream",
          "name": "stdout",
          "text": [
            "80\n"
          ]
        }
      ]
    },
    {
      "cell_type": "code",
      "source": [
        "## elif\n",
        "\n",
        "a= 100\n",
        "b= 20\n",
        "if a>b:\n",
        "  ans=a-b\n",
        "  print(ans)\n",
        "elif a==b:\n",
        "  print(\"invalid\")\n",
        "else:\n",
        "  print(\"addition =\",a+b)"
      ],
      "metadata": {
        "id": "OK6Z-elsqe8Q"
      },
      "execution_count": null,
      "outputs": []
    },
    {
      "cell_type": "code",
      "source": [
        "## if else\n",
        "a =int(input(\"enter\"))\n",
        "\n",
        "if a > 0:\n",
        "    print(\"It is a Positive Number\")\n",
        "else:\n",
        "  print(\"It is a Negative Number\")"
      ],
      "metadata": {
        "colab": {
          "base_uri": "https://localhost:8080/"
        },
        "id": "FO4VWl2Vqe-u",
        "outputId": "6aaf95ba-64a7-43c0-87d3-891e64d03afb"
      },
      "execution_count": null,
      "outputs": [
        {
          "output_type": "stream",
          "name": "stdout",
          "text": [
            "enter989787\n",
            "It is a Positive Number\n"
          ]
        }
      ]
    },
    {
      "cell_type": "code",
      "source": [
        "## odd even number or zero check\n",
        "\n",
        "b =int(input(\"enter number = \"))\n",
        "if b % 2 == 0:\n",
        "  print(b,\" is Even\")\n",
        "else b % 2 != 0:\n",
        "    print(b,\" is Odd\")\n",
        "\n"
      ],
      "metadata": {
        "colab": {
          "base_uri": "https://localhost:8080/"
        },
        "id": "kHAWOzmGqfA7",
        "outputId": "12b1dada-f33b-43ed-deda-442fdff9123a"
      },
      "execution_count": null,
      "outputs": [
        {
          "output_type": "stream",
          "name": "stdout",
          "text": [
            "enter number = 0\n",
            "0  is Even\n"
          ]
        }
      ]
    },
    {
      "cell_type": "code",
      "source": [
        "\n",
        "\n",
        "\n"
      ],
      "metadata": {
        "id": "0HdfqOnUqfDY"
      },
      "execution_count": null,
      "outputs": []
    },
    {
      "cell_type": "markdown",
      "source": [
        "#Questions Give in Class Below\n"
      ],
      "metadata": {
        "id": "_16OZELtQga5"
      }
    },
    {
      "cell_type": "markdown",
      "source": [
        "##Question 1: Write a Python program that checks whether a given number is positive, negative, or zero. Print the corresponding message.\n"
      ],
      "metadata": {
        "id": "CceLK2GAvzM_"
      }
    },
    {
      "cell_type": "code",
      "source": [
        "number=int(input(\"Enter Number \"))\n",
        "if number>0:\n",
        "  print(number,\"is Positive\")\n",
        "elif number<0:\n",
        "  print(number,\"is Negative\")\n",
        "else:\n",
        "  print(\"Number is Zero\")"
      ],
      "metadata": {
        "colab": {
          "base_uri": "https://localhost:8080/"
        },
        "id": "Yq1HWVC9qfFm",
        "outputId": "23733eff-2b21-4bb3-d4c8-edd7a14c7765"
      },
      "execution_count": null,
      "outputs": [
        {
          "output_type": "stream",
          "name": "stdout",
          "text": [
            "Enter Number 0\n",
            "Number is Zero\n"
          ]
        }
      ]
    },
    {
      "cell_type": "markdown",
      "source": [
        "##Question 2: Write a Python program that compares two numbers and prints the larger number."
      ],
      "metadata": {
        "id": "ufaPV4zbwQVo"
      }
    },
    {
      "cell_type": "code",
      "source": [
        "number=int(input(\"Enter Number \"))\n",
        "number2=int(input(\"Enter Number \"))\n",
        "if number>number2:\n",
        "  print(number)\n",
        "else:\n",
        "  print(number2)"
      ],
      "metadata": {
        "colab": {
          "base_uri": "https://localhost:8080/"
        },
        "id": "QtBHGeTvqfIF",
        "outputId": "a09a6a48-3b85-4032-c18b-f3525b3ada68"
      },
      "execution_count": null,
      "outputs": [
        {
          "output_type": "stream",
          "name": "stdout",
          "text": [
            "Enter Number 10\n",
            "Enter Number 11\n",
            "11\n"
          ]
        }
      ]
    },
    {
      "cell_type": "markdown",
      "source": [
        "##Question 3: Write a Python program that checks if a given string is a palindrome or not. Print \"Palindrome\" if it is, otherwise print \"Not a palindrome\"."
      ],
      "metadata": {
        "id": "PkFVireNwosa"
      }
    },
    {
      "cell_type": "code",
      "source": [
        "input=input(\"Enter a Word\")\n",
        "if input==input[::-1]:\n",
        "  print(\"Palindrome\")\n",
        "else:\n",
        "  print(\"Not a Palindrome\")"
      ],
      "metadata": {
        "colab": {
          "base_uri": "https://localhost:8080/"
        },
        "id": "koXsmdUPqfKS",
        "outputId": "4541a5af-9447-464c-902c-322bb0a4906d"
      },
      "execution_count": null,
      "outputs": [
        {
          "output_type": "stream",
          "name": "stdout",
          "text": [
            "Enter a Wordracecar\n",
            "Palindrome\n"
          ]
        }
      ]
    },
    {
      "cell_type": "markdown",
      "source": [
        "##Question 4: Write a Python program that determines whether a given character is a vowel or a consonant. Print \"Vowel\" if it is a vowel, otherwise print \"Consonant\"."
      ],
      "metadata": {
        "id": "IlnzL0qbyBFD"
      }
    },
    {
      "cell_type": "code",
      "source": [
        "char =input()\n",
        "if char in 'aeiou':\n",
        "  print(char,\"is a Vowel\")\n",
        "else:\n",
        "  print(char,\"is Consonant\")"
      ],
      "metadata": {
        "colab": {
          "base_uri": "https://localhost:8080/"
        },
        "id": "Jukq1-urqfM7",
        "outputId": "c73cd376-e520-4874-bbc8-74964258163a"
      },
      "execution_count": null,
      "outputs": [
        {
          "output_type": "stream",
          "name": "stdout",
          "text": [
            "b\n",
            "b is Consonant\n"
          ]
        }
      ]
    },
    {
      "cell_type": "markdown",
      "source": [
        "##Question 5: Write a Python program that assigns a grade to a student based on their exam score. If the score is greater than or equal to 90, assign grade \"A\"; if it is between 80 and 89, assign grade \"B\"; if it is between 70 and 79, assign grade \"C\"; if it is between 60 and 69, assign grade \"D\"; otherwise, assign grade \"F\"."
      ],
      "metadata": {
        "id": "lVZpCedzzqFd"
      }
    },
    {
      "cell_type": "code",
      "source": [
        "score=65\n",
        "if score>=90:\n",
        "  print(\"A Grade\")\n",
        "elif score>80<=89:\n",
        "  print(\"B Grade\")\n",
        "elif score>70<=79:\n",
        "  print(\"C Grade\")\n",
        "elif score>60<=69:\n",
        "  print(\"D Grade\")\n",
        "else:\n",
        "  print(\"F Grade\")"
      ],
      "metadata": {
        "colab": {
          "base_uri": "https://localhost:8080/"
        },
        "id": "MiLo0Kz_qfRy",
        "outputId": "37d58d8e-2dc3-4862-a1b2-91c2938308a6"
      },
      "execution_count": null,
      "outputs": [
        {
          "output_type": "stream",
          "name": "stdout",
          "text": [
            "D Grade\n"
          ]
        }
      ]
    },
    {
      "cell_type": "markdown",
      "source": [
        "##Question 6: Write a Python program that determines the season based on a given month. If the month is between March and May, print \"Spring\"; if it is between June and August, print \"Summer\"; if it is between September and November, print \"Autumn\"; if it is between December and February, print \"Winter\""
      ],
      "metadata": {
        "id": "VqtOE_W60s9E"
      }
    },
    {
      "cell_type": "code",
      "source": [
        "month=input(\"Enter Month \")\n",
        "spring=(\"march\",\"april\",\"may\")\n",
        "summer=(\"june\",\"july\",\"august\")\n",
        "autumn=(\"september\",\"november\")\n",
        "winter=(\"december\",\"january\",\"february\")\n",
        "if month in spring:\n",
        "  print(\"It is Spring Season\")\n",
        "elif month in summer:\n",
        "  print(\"It is Summer Season\")\n",
        "elif month in autumn:\n",
        "  print(\"It is Autumn Season\")\n",
        "else:\n",
        "  print(\"It is Winter Season\")"
      ],
      "metadata": {
        "colab": {
          "base_uri": "https://localhost:8080/"
        },
        "id": "NKwXvUPbqfUd",
        "outputId": "ea0af0fb-d793-4980-b613-90249d48684b"
      },
      "execution_count": null,
      "outputs": [
        {
          "output_type": "stream",
          "name": "stdout",
          "text": [
            "Enter Month september\n",
            "It is Autumn Season\n"
          ]
        }
      ]
    },
    {
      "cell_type": "markdown",
      "source": [
        "##Question 7: Write a Python program that calculates the shipping cost based on the weight of a package. If the weight is less than or equal to 2 kg, the shipping cost is $5; if it is between 2 kg and 5 kg, the shipping cost is $10; if it is between 5 kg and 10 kg, the shipping cost is $15; otherwise, the shipping cost is $20.\n"
      ],
      "metadata": {
        "id": "dhwElfAp3Oq7"
      }
    },
    {
      "cell_type": "code",
      "source": [
        "weight=int(input(\"Enter Weight \"))\n",
        "if weight<=2:\n",
        "  print(\"$5\")\n",
        "elif weight>2<5:\n",
        "  print(\"$10\")\n",
        "elif weight>5<10:\n",
        "  print(\"$15\")\n",
        "else:\n",
        "  print(\"$20\")"
      ],
      "metadata": {
        "id": "6g5UELsVqfXC",
        "colab": {
          "base_uri": "https://localhost:8080/"
        },
        "outputId": "f7028972-4055-4eaf-e732-bd236a36f5a9"
      },
      "execution_count": 2,
      "outputs": [
        {
          "output_type": "stream",
          "name": "stdout",
          "text": [
            "Enter Weight 1\n",
            "$5\n"
          ]
        }
      ]
    },
    {
      "cell_type": "markdown",
      "source": [
        "##Question 8: Write a Python program that calculates the shipping cost based on the weight of a package. If the weight is less than or equal to 2 kg, the shipping cost is $5 if it is between 2 kg and 5 kg, the shipping cost is $10 if it is between 5 kg and 10 kg, the shipping cost is $15; otherwise, the shipping cost is $20.Now make default purchase price as $80 and add Shipping cost"
      ],
      "metadata": {
        "id": "O9m7WGvw4eR4"
      }
    },
    {
      "cell_type": "code",
      "source": [
        "weight=int(input(\"Enter Weight \"))\n",
        "price = 80\n",
        "if weight <= 2:\n",
        "  print(\"$\",price + 5)\n",
        "elif 2 < weight < 5:\n",
        "  print(\"$\",price + 10)\n",
        "elif 5 < weight < 10:\n",
        "  print(\"$\",price + 15)\n",
        "else:\n",
        "  print(\"$\",price + 20)"
      ],
      "metadata": {
        "id": "tituDpF-qfZX",
        "colab": {
          "base_uri": "https://localhost:8080/"
        },
        "outputId": "87b61dd4-0a0f-40cd-eaa5-7c11193b50ea"
      },
      "execution_count": 3,
      "outputs": [
        {
          "output_type": "stream",
          "name": "stdout",
          "text": [
            "Enter Weight 1\n",
            "$ 85\n"
          ]
        }
      ]
    },
    {
      "cell_type": "markdown",
      "source": [
        "##Quetion 9: Write a Python program that categorizes a given temperature into different levels of hotness. If the temperature is below 0 degrees Celsius, print \"Freezing\"; if it is between 0 and 10 degrees Celsius, print \"Cold\"; if it is between 10 and 20 degrees Celsius, print \"Moderate\"; if it is between 20 and 30 degrees Celsius, print \"Warm\"; if it is above 30 degrees Celsius, print \"Hot\"."
      ],
      "metadata": {
        "id": "0qh__-ZU5bZd"
      }
    },
    {
      "cell_type": "code",
      "source": [
        "temp=35\n",
        "if temp<0:\n",
        "  print(\"It is Frezzing\")\n",
        "elif temp<=10:\n",
        "  print(\"It is Cold\")\n",
        "elif temp<=20:\n",
        "  print(\"It is Moderate\")\n",
        "elif temp<=30:\n",
        "  print(\"It is Warm\")\n",
        "else:\n",
        "  print(\"It is Hot\")"
      ],
      "metadata": {
        "id": "9HSWt60eqfcA",
        "colab": {
          "base_uri": "https://localhost:8080/"
        },
        "outputId": "8125a1ab-9c42-4497-b140-32324fcf7a6a"
      },
      "execution_count": null,
      "outputs": [
        {
          "output_type": "stream",
          "name": "stdout",
          "text": [
            "It is Hot\n"
          ]
        }
      ]
    },
    {
      "cell_type": "code",
      "source": [],
      "metadata": {
        "id": "f3E_MsoAqfeO"
      },
      "execution_count": null,
      "outputs": []
    },
    {
      "cell_type": "markdown",
      "source": [
        "#Word Doc Questions Below -------\n",
        "##If Questions"
      ],
      "metadata": {
        "id": "5A0izmMJ15y5"
      }
    },
    {
      "cell_type": "markdown",
      "source": [
        "##Question 1: Write a Python program that checks if a given number is even. If it is, print \"Even number\"."
      ],
      "metadata": {
        "id": "mVQSTIk22Ds_"
      }
    },
    {
      "cell_type": "code",
      "source": [
        "num=int(input(\"Enter a number: \"))\n",
        "if (num % 2)==0:\n",
        "  print(\"Even number\")\n"
      ],
      "metadata": {
        "colab": {
          "base_uri": "https://localhost:8080/"
        },
        "id": "r14suXBP12fy",
        "outputId": "fb04d575-dc13-4efa-c6a2-f7c7cf821f1f"
      },
      "execution_count": 4,
      "outputs": [
        {
          "output_type": "stream",
          "name": "stdout",
          "text": [
            "Enter a number: 34\n",
            "Even number\n"
          ]
        }
      ]
    },
    {
      "cell_type": "markdown",
      "source": [
        "##Question 2: Write a Python program that checks if a given string contains the letter 'a'. If it does, print \"String contains 'a'\"."
      ],
      "metadata": {
        "id": "m3BGnWNM2XkF"
      }
    },
    {
      "cell_type": "code",
      "source": [
        "string=input(\"Enter String \")\n",
        "con=(\"a\")\n",
        "if con in string:\n",
        "  print(\"String Contains a \")"
      ],
      "metadata": {
        "colab": {
          "base_uri": "https://localhost:8080/"
        },
        "id": "hC8IEid612iC",
        "outputId": "53c24929-5171-4de4-ffde-27a9e2ef84d2"
      },
      "execution_count": 8,
      "outputs": [
        {
          "output_type": "stream",
          "name": "stdout",
          "text": [
            "Enter String Jay\n",
            "String Contains a \n"
          ]
        }
      ]
    },
    {
      "cell_type": "markdown",
      "source": [
        "##Question 3: Write a Python program that checks if a given year is a leap year. If it is, print \"Leap year\"."
      ],
      "metadata": {
        "id": "eSMRKayn2642"
      }
    },
    {
      "cell_type": "code",
      "source": [
        "year=int(input(\"Enter Year \"))\n",
        "if year % 4 ==0 and year % 100!=0 or year % 400 == 0:\n",
        "  print(year,\"is a leap year\")\n"
      ],
      "metadata": {
        "colab": {
          "base_uri": "https://localhost:8080/"
        },
        "id": "B0hTNhpg12kZ",
        "outputId": "e0ad1730-cb7a-4493-a1e8-2a17b9181a43"
      },
      "execution_count": 14,
      "outputs": [
        {
          "output_type": "stream",
          "name": "stdout",
          "text": [
            "Enter Year 2016\n",
            "2016 is a leap year\n"
          ]
        }
      ]
    },
    {
      "cell_type": "markdown",
      "source": [
        "##Question 4: Write a Python program that checks if a given number is positive. If it is, print \"Positive number\"."
      ],
      "metadata": {
        "id": "IPjQQY154J1A"
      }
    },
    {
      "cell_type": "code",
      "source": [
        "num=int(input(\"Enter Number \"))\n",
        "if num>0:\n",
        "  print(num,\" is a Positive Number\")\n"
      ],
      "metadata": {
        "colab": {
          "base_uri": "https://localhost:8080/"
        },
        "id": "r2C_7d6412mm",
        "outputId": "28b6c310-8019-4e21-d049-655f68cef0f8"
      },
      "execution_count": 16,
      "outputs": [
        {
          "output_type": "stream",
          "name": "stdout",
          "text": [
            "Enter Number 234\n",
            "234  is a Positive Number\n"
          ]
        }
      ]
    },
    {
      "cell_type": "markdown",
      "source": [
        "##Question 5: Write a Python program that checks if a given character is a vowel. If it is, print \"Vowel\"."
      ],
      "metadata": {
        "id": "44yJ-RsN4jhD"
      }
    },
    {
      "cell_type": "code",
      "source": [
        "char=input(\"Enter a Character \")\n",
        "if char in (\"aeiou\"):\n",
        "  print(char,\"is a Vowel\")"
      ],
      "metadata": {
        "colab": {
          "base_uri": "https://localhost:8080/"
        },
        "id": "Y7xiQ1nN12o1",
        "outputId": "866ccbda-f081-41fe-a4b3-400c90b69e0e"
      },
      "execution_count": 19,
      "outputs": [
        {
          "output_type": "stream",
          "name": "stdout",
          "text": [
            "Enter a Character a\n",
            "a is a Vowel\n"
          ]
        }
      ]
    },
    {
      "cell_type": "markdown",
      "source": [
        "##Question 6: Write a Python program that checks if a given number is greater than 100. If it is, print \"Greater than 100\"."
      ],
      "metadata": {
        "id": "OLO7SuXG4-MS"
      }
    },
    {
      "cell_type": "code",
      "source": [
        "num=int(input(\"Enter a Number \"))\n",
        "if num>100:\n",
        "  print(num,\"is greater than 100\")"
      ],
      "metadata": {
        "colab": {
          "base_uri": "https://localhost:8080/"
        },
        "id": "0Heezvr512rR",
        "outputId": "11398361-2218-4756-bd34-77dfe41e0276"
      },
      "execution_count": 20,
      "outputs": [
        {
          "output_type": "stream",
          "name": "stdout",
          "text": [
            "Enter a Number 111\n",
            "111 is greater than 100\n"
          ]
        }
      ]
    },
    {
      "cell_type": "markdown",
      "source": [
        "##Question 7: Write a Python program that checks if a given string is empty. If it is, print \"Empty string\"."
      ],
      "metadata": {
        "id": "nS4ws5QM5Rae"
      }
    },
    {
      "cell_type": "code",
      "source": [
        "string=input(\"Enter String \")\n",
        "if string == (\"\"):\n",
        "  print(\"Empty String\")"
      ],
      "metadata": {
        "colab": {
          "base_uri": "https://localhost:8080/"
        },
        "id": "GYH1odbj12tO",
        "outputId": "adff8b66-aee2-405c-c814-06c33e1176b5"
      },
      "execution_count": 22,
      "outputs": [
        {
          "output_type": "stream",
          "name": "stdout",
          "text": [
            "Enter String \n",
            "Empty String\n"
          ]
        }
      ]
    },
    {
      "cell_type": "markdown",
      "source": [
        "##Question 8: Write a Python program that checks if a given number is divisible by both 5 and 7. If it is, print \"Divisible by 5 and 7\"."
      ],
      "metadata": {
        "id": "8ZI8WVVJ5ntb"
      }
    },
    {
      "cell_type": "code",
      "source": [
        "num=int(input(\"Enter Number \"))\n",
        "if num % 5==0 and num % 7==0:\n",
        "  print(num,\"is Divisible by 5 and 7\")\n",
        "else:\n",
        "  print(num,\"is not Divisible by both 5 and 7\")"
      ],
      "metadata": {
        "colab": {
          "base_uri": "https://localhost:8080/"
        },
        "id": "ZSZARLj412vX",
        "outputId": "e203e758-6d77-4505-f267-58793e574e0e"
      },
      "execution_count": 28,
      "outputs": [
        {
          "output_type": "stream",
          "name": "stdout",
          "text": [
            "Enter Number 35\n",
            "35 is Divisible by 5 and 7\n"
          ]
        }
      ]
    },
    {
      "cell_type": "markdown",
      "source": [
        "##Question 9: Write a Python program that checks if a given list contains any negative numbers. If it does, print \"List contains negative numbers\"."
      ],
      "metadata": {
        "id": "cpD3dCgQ6OVw"
      }
    },
    {
      "cell_type": "code",
      "source": [
        "list=[1,2,3,4,-5,6,-7,8]\n",
        "neg =any(num < 0 for num in list)\n",
        "if neg is True:\n",
        "  print(\"List Contains Negative Numbers\")\n"
      ],
      "metadata": {
        "colab": {
          "base_uri": "https://localhost:8080/"
        },
        "id": "cYJJJKrE12xY",
        "outputId": "69d78514-5315-4fcb-bd44-eaf75228c2d4"
      },
      "execution_count": 39,
      "outputs": [
        {
          "output_type": "stream",
          "name": "stdout",
          "text": [
            "List Contains Negative Numbers\n"
          ]
        }
      ]
    },
    {
      "cell_type": "markdown",
      "source": [
        "##Question 10: Write a Python program that checks if a given word is a palindrome. If it is, print \"Palindrome\"."
      ],
      "metadata": {
        "id": "Qn8iZ49L8c95"
      }
    },
    {
      "cell_type": "code",
      "source": [
        "input=input(\"Enter a Word\")\n",
        "if input==input[::-1]:\n",
        "  print(\"Palindrome\")\n"
      ],
      "metadata": {
        "colab": {
          "base_uri": "https://localhost:8080/"
        },
        "id": "2rEWbwZ_120A",
        "outputId": "88cdb67d-bc28-4921-aeae-d74eaea9045c"
      },
      "execution_count": 40,
      "outputs": [
        {
          "output_type": "stream",
          "name": "stdout",
          "text": [
            "Enter a Wordracecar\n",
            "Palindrome\n"
          ]
        }
      ]
    },
    {
      "cell_type": "markdown",
      "source": [
        "#If else Questions"
      ],
      "metadata": {
        "id": "kj7mf6218tou"
      }
    },
    {
      "cell_type": "markdown",
      "source": [
        "##Question 1: Write a Python program that checks if a given number is positive. If it is, print \"Positive number\"; otherwise, print \"Negative number\"."
      ],
      "metadata": {
        "id": "hQNV5T4I80Vu"
      }
    },
    {
      "cell_type": "code",
      "source": [
        "num=int(input(\"Enter Number \"))\n",
        "if num>0:\n",
        "  print(num,\" is a Positive Number\")\n",
        "else:\n",
        "  print(num,\"is a Negative Number\")"
      ],
      "metadata": {
        "colab": {
          "base_uri": "https://localhost:8080/"
        },
        "id": "eSlAHkMZ1219",
        "outputId": "ccb9744a-3a6c-400c-c8a6-571ffb4f2982"
      },
      "execution_count": 1,
      "outputs": [
        {
          "output_type": "stream",
          "name": "stdout",
          "text": [
            "Enter Number -100\n",
            "-100 is a Negative Number\n"
          ]
        }
      ]
    },
    {
      "cell_type": "markdown",
      "source": [
        "##Question 2: Write a Python program that checks if a given string is empty. If it is, print \"Empty string\"; otherwise, print \"Non-empty string\"."
      ],
      "metadata": {
        "id": "nZypJq3B9Ery"
      }
    },
    {
      "cell_type": "code",
      "source": [
        "string=input(\"Enter String \")\n",
        "if string == (\"\"):\n",
        "  print(\"Empty String\")\n",
        "else:\n",
        "  print(\"Non-empty String\")"
      ],
      "metadata": {
        "colab": {
          "base_uri": "https://localhost:8080/"
        },
        "id": "qi3-pj2Q124K",
        "outputId": "5bac3c3e-21ce-476e-99f3-a0946972f262"
      },
      "execution_count": 3,
      "outputs": [
        {
          "output_type": "stream",
          "name": "stdout",
          "text": [
            "Enter String jay\n",
            "Non-empty String\n"
          ]
        }
      ]
    },
    {
      "cell_type": "markdown",
      "source": [
        "##Question 3: Write a Python program that checks if a given number is even. If it is, print \"Even number\"; otherwise, print \"Odd number\"."
      ],
      "metadata": {
        "id": "zEhzwEeo9PZ0"
      }
    },
    {
      "cell_type": "code",
      "source": [
        "num=int(input(\"Enter a number: \"))\n",
        "if (num % 2)==0:\n",
        "  print(\"Even number\")\n",
        "else:\n",
        "  print(\"Odd number\")"
      ],
      "metadata": {
        "colab": {
          "base_uri": "https://localhost:8080/"
        },
        "id": "-BKSZ0mF126n",
        "outputId": "3f257e33-db9f-4f2a-8af9-54703983ff6c"
      },
      "execution_count": 4,
      "outputs": [
        {
          "output_type": "stream",
          "name": "stdout",
          "text": [
            "Enter a number: 133\n",
            "Odd number\n"
          ]
        }
      ]
    },
    {
      "cell_type": "markdown",
      "source": [
        "##Question 4: Write a Python program that checks if a given character is a vowel. If it is, print \"Vowel\"; otherwise, print \"Consonant\"."
      ],
      "metadata": {
        "id": "Dh2wm0yy9Xy2"
      }
    },
    {
      "cell_type": "code",
      "source": [
        "char =input()\n",
        "if char in 'aeiou':\n",
        "  print(char,\"is a Vowel\")\n",
        "else:\n",
        "  print(char,\"is Consonant\")"
      ],
      "metadata": {
        "colab": {
          "base_uri": "https://localhost:8080/"
        },
        "id": "EhGtPTfK1281",
        "outputId": "ecafad1f-12b8-4e96-fe70-61dfd2dcfccd"
      },
      "execution_count": 5,
      "outputs": [
        {
          "output_type": "stream",
          "name": "stdout",
          "text": [
            "c\n",
            "c is Consonant\n"
          ]
        }
      ]
    },
    {
      "cell_type": "markdown",
      "source": [
        "##Question 5: Write a Python program that checks if a given year is a leap year. If it is, print \"Leap year\"; otherwise, print \"Not a leap year\"."
      ],
      "metadata": {
        "id": "g81E0M1a9fZN"
      }
    },
    {
      "cell_type": "code",
      "source": [
        "year=int(input(\"Enter Year \"))\n",
        "if year % 4 ==0 and year % 100!=0 or year % 400 == 0:\n",
        "  print(year,\"is a leap year\")\n",
        "else:\n",
        "  print(year,\"is not a leap year\")"
      ],
      "metadata": {
        "colab": {
          "base_uri": "https://localhost:8080/"
        },
        "id": "WJosx-4S12_E",
        "outputId": "d0bb46ab-1136-4870-9b5a-d3e8fee33fc8"
      },
      "execution_count": 11,
      "outputs": [
        {
          "output_type": "stream",
          "name": "stdout",
          "text": [
            "Enter Year 1999\n",
            "1999 is not a leap year\n"
          ]
        }
      ]
    },
    {
      "cell_type": "markdown",
      "source": [
        "##Question 6: Write a Python program that checks if a given number is divisible by 3. If it is, print \"Divisible by 3\"; otherwise, print \"Not divisible by 3\"."
      ],
      "metadata": {
        "id": "aolc5sXM9rG5"
      }
    },
    {
      "cell_type": "code",
      "source": [
        "num=int(input(\"Enter Number \"))\n",
        "if num % 3==0:\n",
        "  print(num,\"is Divisible by 3\")\n",
        "else:\n",
        "  print(num,\"is not Divisible by 3\")"
      ],
      "metadata": {
        "colab": {
          "base_uri": "https://localhost:8080/"
        },
        "id": "Yf2i4Taw13Bo",
        "outputId": "1c7495a1-342c-496c-9a64-3034bb9cd267"
      },
      "execution_count": 7,
      "outputs": [
        {
          "output_type": "stream",
          "name": "stdout",
          "text": [
            "Enter Number 13\n",
            "13 is not Divisible by 3\n"
          ]
        }
      ]
    },
    {
      "cell_type": "markdown",
      "source": [
        "##Question 7: Write a Python program that checks if a given string is a palindrome. If it is, print \"Palindrome\"; otherwise, print \"Not a palindrome\"."
      ],
      "metadata": {
        "id": "r68qRp_89_4i"
      }
    },
    {
      "cell_type": "code",
      "source": [
        "input=input(\"Enter a Word \")\n",
        "if input==input[::-1]:\n",
        "  print(\"Palindrome\")\n",
        "else:\n",
        "  print(\"Not a Palindrome\")"
      ],
      "metadata": {
        "colab": {
          "base_uri": "https://localhost:8080/"
        },
        "id": "dGvek83r13EA",
        "outputId": "0abee6d1-b3d6-42d0-9bcb-feadc29966dc"
      },
      "execution_count": 1,
      "outputs": [
        {
          "output_type": "stream",
          "name": "stdout",
          "text": [
            "Enter a Word jay\n",
            "Not a Palindrome\n"
          ]
        }
      ]
    },
    {
      "cell_type": "markdown",
      "source": [
        "##Question 8: Write a Python program that checks if a given list is empty. If it is, print \"Empty list\"; otherwise, print \"Non-empty list\"."
      ],
      "metadata": {
        "id": "MUxQYMR_-RtG"
      }
    },
    {
      "cell_type": "code",
      "source": [
        "list=[]\n",
        "if len(list)==0:\n",
        "  print(\"List is Empty\")\n",
        "else:\n",
        "  print(\"Non-empty List\")"
      ],
      "metadata": {
        "colab": {
          "base_uri": "https://localhost:8080/"
        },
        "id": "gD1Osia813GP",
        "outputId": "531c5f20-01b9-49fa-bcf3-9bdfa69c011b"
      },
      "execution_count": 7,
      "outputs": [
        {
          "output_type": "stream",
          "name": "stdout",
          "text": [
            "List is Empty\n"
          ]
        }
      ]
    },
    {
      "cell_type": "markdown",
      "source": [
        "##Question 9: Write a Python program that checks if a given number is greater than, less than, or equal to 50. Print the corresponding message."
      ],
      "metadata": {
        "id": "Oj428Zu7-8t-"
      }
    },
    {
      "cell_type": "code",
      "source": [
        "num=int(input(\"Enter Number \"))\n",
        "if num<50:\n",
        "  print(num,\"is Less than 50\")\n",
        "elif num==50:\n",
        "  print(num,\"is Equal to 50\")\n",
        "else:\n",
        "  print(num,\"is Greater than 50\")"
      ],
      "metadata": {
        "colab": {
          "base_uri": "https://localhost:8080/"
        },
        "id": "zXTL9sb213Ii",
        "outputId": "76a82bb5-c5c3-4ff9-e4ee-7762fbe12c15"
      },
      "execution_count": 1,
      "outputs": [
        {
          "output_type": "stream",
          "name": "stdout",
          "text": [
            "Enter Number 150\n",
            "150 is Greater than 50\n"
          ]
        }
      ]
    },
    {
      "cell_type": "markdown",
      "source": [
        "##Question 10: Write a Python program that checks if a given character is an uppercase letter. If it is, print \"Uppercase\"; otherwise, print \"Lowercase\"."
      ],
      "metadata": {
        "id": "bqsvVH_j_sNd"
      }
    },
    {
      "cell_type": "code",
      "source": [
        "char=input(\"Enter a Character \")\n",
        "if char ==char.upper():\n",
        "  print(char,\"is in Uppercase\")\n",
        "else:\n",
        "  print(char,\"is in Lowercase\")"
      ],
      "metadata": {
        "colab": {
          "base_uri": "https://localhost:8080/"
        },
        "id": "0agZNaHs13LN",
        "outputId": "693ff6e7-fe64-470d-f5a8-87b7625be18f"
      },
      "execution_count": 3,
      "outputs": [
        {
          "output_type": "stream",
          "name": "stdout",
          "text": [
            "Enter a Character s\n",
            "s is in Lowercase\n"
          ]
        }
      ]
    },
    {
      "cell_type": "markdown",
      "source": [
        "##if elif else questions\n"
      ],
      "metadata": {
        "id": "QsY3XHZ0ATrt"
      }
    },
    {
      "cell_type": "markdown",
      "source": [
        "##Question 1: Write a Python program that checks if a given number is positive, negative, or zero. Print the corresponding message."
      ],
      "metadata": {
        "id": "DCuZ76Q9AYV3"
      }
    },
    {
      "cell_type": "code",
      "source": [
        "num=int(input(\"Enter Number \"))\n",
        "if num>0:\n",
        "  print(num,\" is a Positive Number\")\n",
        "elif num==0:\n",
        "  print(num,\"is Zero\")\n",
        "else:\n",
        "  print(num,\"is a Negative Number\")"
      ],
      "metadata": {
        "colab": {
          "base_uri": "https://localhost:8080/"
        },
        "id": "L6egkdOq13Nd",
        "outputId": "7405ec66-b705-4815-9fe3-9d099d2e29e1"
      },
      "execution_count": 4,
      "outputs": [
        {
          "output_type": "stream",
          "name": "stdout",
          "text": [
            "Enter Number 0\n",
            "0 is Zero\n"
          ]
        }
      ]
    },
    {
      "cell_type": "markdown",
      "source": [
        "##Question 2: Write a Python program that compares two numbers and prints the larger number."
      ],
      "metadata": {
        "id": "Dr2KVx5kAmG7"
      }
    },
    {
      "cell_type": "code",
      "source": [
        "num1=int(input(\"Enter 1st Number \"))\n",
        "num2=int(input(\"Enter 2nd Number \"))\n",
        "if num1>num2:\n",
        "  print(num1)\n",
        "else:\n",
        "  print(num2)"
      ],
      "metadata": {
        "colab": {
          "base_uri": "https://localhost:8080/"
        },
        "id": "uhIJqMLq13PX",
        "outputId": "c745a24e-5fae-447c-dc77-3de04d98980a"
      },
      "execution_count": 5,
      "outputs": [
        {
          "output_type": "stream",
          "name": "stdout",
          "text": [
            "Enter 1st Number 12\n",
            "Enter 2nd Number 14\n",
            "14\n"
          ]
        }
      ]
    },
    {
      "cell_type": "markdown",
      "source": [
        "##Question 3: Write a Python program that determines whether a given temperature is hot, warm, or cold. Print the corresponding message."
      ],
      "metadata": {
        "id": "gaxMYSXHBAKR"
      }
    },
    {
      "cell_type": "code",
      "source": [
        "temp=int(input(\"Enter Temp \"))\n",
        "if temp<0:\n",
        "  print(\"It is Frezzing\")\n",
        "elif temp<=10:\n",
        "  print(\"It is Cold\")\n",
        "elif temp<=20:\n",
        "  print(\"It is Moderate\")\n",
        "elif temp<=30:\n",
        "  print(\"It is Warm\")\n",
        "else:\n",
        "  print(\"It is Hot\")"
      ],
      "metadata": {
        "colab": {
          "base_uri": "https://localhost:8080/"
        },
        "id": "_SHfUtvK13R_",
        "outputId": "6b43e9b6-b9b1-4d0f-945f-9766cbcdb6c7"
      },
      "execution_count": 6,
      "outputs": [
        {
          "output_type": "stream",
          "name": "stdout",
          "text": [
            "Enter Temp 34\n",
            "It is Hot\n"
          ]
        }
      ]
    },
    {
      "cell_type": "markdown",
      "source": [
        "##Question 4: Write a Python program that checks if a given year is a leap year, a century year, or neither. Print the corresponding message."
      ],
      "metadata": {
        "id": "O5heT7zHBR8l"
      }
    },
    {
      "cell_type": "code",
      "source": [
        "year=int(input(\"Enter Year \"))\n",
        "if (year % 4 ==0 and year % 100 !=0) or year % 400 == 0:\n",
        "  print(year,\"is a Leap Year\")\n",
        "elif year % 100 == 0:\n",
        "  print(year,\"is a Century Year\")\n",
        "else:\n",
        "  print(year,\"is neither a Leap Year or Century Year\")"
      ],
      "metadata": {
        "colab": {
          "base_uri": "https://localhost:8080/"
        },
        "id": "kEq6rqqI13UV",
        "outputId": "1bdb721f-e534-427e-f0f8-8ac37b912ba5"
      },
      "execution_count": 13,
      "outputs": [
        {
          "output_type": "stream",
          "name": "stdout",
          "text": [
            "Enter Year 1999\n",
            "1999 is neither a Leap Year or Century Year\n"
          ]
        }
      ]
    },
    {
      "cell_type": "markdown",
      "source": [
        "##Question 5: Write a Python program that categorizes a given character into uppercase letter, lowercase letter, digit, or special character. Print the corresponding message."
      ],
      "metadata": {
        "id": "R_Ybdpy5DyIE"
      }
    },
    {
      "cell_type": "code",
      "source": [
        "char=(input(\"Enter a Character \")\n",
        "if char==char.upper():\n",
        "  print(char,\"is an uppercase letter\")\n",
        "elif char==char.lower():\n",
        "  print(char,\"is an lowercase letter\")\n",
        "\n",
        "else:\n",
        "  print(char,\"is a special character\")\n",
        "\n",
        "if char==(num):\n",
        "  print(char,\"is a digit\")\n"
      ],
      "metadata": {
        "colab": {
          "base_uri": "https://localhost:8080/",
          "height": 228
        },
        "id": "tGM-CQ-P13ZI",
        "outputId": "e39246dc-e680-4fcd-d5c7-4f0f6c1aa150"
      },
      "execution_count": 29,
      "outputs": [
        {
          "name": "stdout",
          "output_type": "stream",
          "text": [
            "Enter a Character 1\n"
          ]
        },
        {
          "output_type": "error",
          "ename": "AttributeError",
          "evalue": "'int' object has no attribute 'upper'",
          "traceback": [
            "\u001b[0;31m---------------------------------------------------------------------------\u001b[0m",
            "\u001b[0;31mAttributeError\u001b[0m                            Traceback (most recent call last)",
            "\u001b[0;32m<ipython-input-29-fe949883e874>\u001b[0m in \u001b[0;36m<cell line: 2>\u001b[0;34m()\u001b[0m\n\u001b[1;32m      1\u001b[0m \u001b[0mchar\u001b[0m\u001b[0;34m=\u001b[0m\u001b[0mint\u001b[0m\u001b[0;34m(\u001b[0m\u001b[0minput\u001b[0m\u001b[0;34m(\u001b[0m\u001b[0;34m\"Enter a Character \"\u001b[0m\u001b[0;34m)\u001b[0m\u001b[0;34m)\u001b[0m\u001b[0;34m\u001b[0m\u001b[0;34m\u001b[0m\u001b[0m\n\u001b[0;32m----> 2\u001b[0;31m \u001b[0;32mif\u001b[0m \u001b[0mchar\u001b[0m\u001b[0;34m==\u001b[0m\u001b[0mchar\u001b[0m\u001b[0;34m.\u001b[0m\u001b[0mupper\u001b[0m\u001b[0;34m(\u001b[0m\u001b[0;34m)\u001b[0m\u001b[0;34m:\u001b[0m\u001b[0;34m\u001b[0m\u001b[0;34m\u001b[0m\u001b[0m\n\u001b[0m\u001b[1;32m      3\u001b[0m   \u001b[0mprint\u001b[0m\u001b[0;34m(\u001b[0m\u001b[0mchar\u001b[0m\u001b[0;34m,\u001b[0m\u001b[0;34m\"is an uppercase letter\"\u001b[0m\u001b[0;34m)\u001b[0m\u001b[0;34m\u001b[0m\u001b[0;34m\u001b[0m\u001b[0m\n\u001b[1;32m      4\u001b[0m \u001b[0;32melif\u001b[0m \u001b[0mchar\u001b[0m\u001b[0;34m==\u001b[0m\u001b[0mchar\u001b[0m\u001b[0;34m.\u001b[0m\u001b[0mlower\u001b[0m\u001b[0;34m(\u001b[0m\u001b[0;34m)\u001b[0m\u001b[0;34m:\u001b[0m\u001b[0;34m\u001b[0m\u001b[0;34m\u001b[0m\u001b[0m\n\u001b[1;32m      5\u001b[0m   \u001b[0mprint\u001b[0m\u001b[0;34m(\u001b[0m\u001b[0mchar\u001b[0m\u001b[0;34m,\u001b[0m\u001b[0;34m\"is an lowercase letter\"\u001b[0m\u001b[0;34m)\u001b[0m\u001b[0;34m\u001b[0m\u001b[0;34m\u001b[0m\u001b[0m\n",
            "\u001b[0;31mAttributeError\u001b[0m: 'int' object has no attribute 'upper'"
          ]
        }
      ]
    },
    {
      "cell_type": "code",
      "source": [
        "# Copied from internet coundnt figure out how to check if it is a digit\n",
        "\n",
        "char = input(\"Enter a character: \")\n",
        "\n",
        "if char.isupper():\n",
        "  print(char, \"is an uppercase letter.\")\n",
        "elif char.islower():\n",
        "  print(char, \"is a lowercase letter.\")\n",
        "elif char.isdigit():\n",
        "  print(char, \"is a digit.\")\n",
        "else:\n",
        "  print(char, \"is a special character.\")\n"
      ],
      "metadata": {
        "colab": {
          "base_uri": "https://localhost:8080/"
        },
        "id": "97BjgCWd13bh",
        "outputId": "45b01d66-aafa-424b-e37c-dfe292666a8e"
      },
      "execution_count": 19,
      "outputs": [
        {
          "output_type": "stream",
          "name": "stdout",
          "text": [
            "Enter a character: J\n",
            "J is an uppercase letter.\n"
          ]
        }
      ]
    },
    {
      "cell_type": "markdown",
      "source": [
        "##Question 6: Write a Python program that calculates the discount percentage based on the purchase amount. Print the corresponding discount percentage."
      ],
      "metadata": {
        "id": "mKw1IJbHG0mI"
      }
    },
    {
      "cell_type": "code",
      "source": [
        "amt=int(input(\"enter amount \"))\n",
        "if amt<10:\n",
        "  print(\"Original Price $\",amt,\"Discounted Price $\",amt-(amt*10/100))\n",
        "elif amt>10<20:\n",
        "  print(\"Original Price $\",amt,\"Discounted Price $\",amt-(amt*15/100))\n",
        "elif amt>20<30:\n",
        "  print(\"Original Price $\",amt,\"Discounted Price $\",amt-(amt*20/100))\n",
        "else:\n",
        "  print(\"Original Price $\",amt,\"Discounted Price $\",amt-(amt*25/100))\n"
      ],
      "metadata": {
        "colab": {
          "base_uri": "https://localhost:8080/"
        },
        "id": "TLYwJpuo13d1",
        "outputId": "055f02a0-0f83-4296-a5e9-fa338926b565"
      },
      "execution_count": 43,
      "outputs": [
        {
          "output_type": "stream",
          "name": "stdout",
          "text": [
            "enter amount 45\n",
            "Original Price $ 45 Discounted Price $ 38.25\n"
          ]
        }
      ]
    },
    {
      "cell_type": "markdown",
      "source": [
        "##Question 7: Write a Python program that checks if a given number is divisible by 2, 3, 5, or none of them. Print the corresponding message."
      ],
      "metadata": {
        "id": "qJHiaZhlIgKh"
      }
    },
    {
      "cell_type": "code",
      "source": [
        "num=int(input(\"Enter Number \"))\n",
        "if num % 2==0:\n",
        "  print(num,\"is Divisible by 2\")\n",
        "elif num % 3==0:\n",
        "  print(num,\"is Divisible by 3\")\n",
        "elif num % 5 ==0:\n",
        "  print(num,\"is Divisible by 5\")\n",
        "else:\n",
        "  print(num,\"is not Divisible by None\")"
      ],
      "metadata": {
        "colab": {
          "base_uri": "https://localhost:8080/"
        },
        "id": "NH1MQipr13gB",
        "outputId": "cb672da7-bf32-4231-a0a7-fcd562349995"
      },
      "execution_count": 44,
      "outputs": [
        {
          "output_type": "stream",
          "name": "stdout",
          "text": [
            "Enter Number 7\n",
            "7 is not Divisible by None\n"
          ]
        }
      ]
    },
    {
      "cell_type": "markdown",
      "source": [
        "##Question 8: Write a Python program that determines the grade based on the percentage obtained. Print the corresponding grade."
      ],
      "metadata": {
        "id": "MqalKQdsK9E1"
      }
    },
    {
      "cell_type": "code",
      "source": [
        "score=int(input(\"Enter Percentage \"))\n",
        "if score>=90:\n",
        "  print(\"A Grade\")\n",
        "elif score>80<=89:\n",
        "  print(\"B Grade\")\n",
        "elif score>70<=79:\n",
        "  print(\"C Grade\")\n",
        "elif score>60<=69:\n",
        "  print(\"D Grade\")\n",
        "else:\n",
        "  print(\"F Grade\")"
      ],
      "metadata": {
        "colab": {
          "base_uri": "https://localhost:8080/"
        },
        "id": "kblhssz013ih",
        "outputId": "90aa0831-abe1-406b-cc52-1326e6136694"
      },
      "execution_count": 45,
      "outputs": [
        {
          "output_type": "stream",
          "name": "stdout",
          "text": [
            "Enter Percentage 79\n",
            "C Grade\n"
          ]
        }
      ]
    },
    {
      "cell_type": "markdown",
      "source": [
        "##Question 9: Write a Python program that checks if a given number is within a specific range. Print the corresponding message."
      ],
      "metadata": {
        "id": "oS8y1JYsNZzM"
      }
    },
    {
      "cell_type": "code",
      "source": [
        "num=int(input(\"Enter a Number \"))\n",
        "if num<(10):\n",
        "  print(\"1-10\")\n",
        "elif num<(20):\n",
        "  print(\"11-20\")\n",
        "elif num<(30):\n",
        "  print(\"21-30\")\n",
        "elif num<(40):\n",
        "  print(\"31-40\")\n",
        "else:\n",
        "  print(\"41-100\")\n"
      ],
      "metadata": {
        "colab": {
          "base_uri": "https://localhost:8080/"
        },
        "id": "kYM3eeB613lQ",
        "outputId": "1406802b-4270-4f12-b5c7-5cc94ce1f229"
      },
      "execution_count": 57,
      "outputs": [
        {
          "output_type": "stream",
          "name": "stdout",
          "text": [
            "Enter a Number 34\n",
            "31-40\n"
          ]
        }
      ]
    },
    {
      "cell_type": "markdown",
      "source": [
        "##Question 10: Write a Python program that checks if a given string is an English word, a number, or a combination of both. Print the corresponding message."
      ],
      "metadata": {
        "id": "2naaYyAsPCw9"
      }
    },
    {
      "cell_type": "code",
      "source": [
        "string=\n",
        "if string.isalpha:\n",
        "  print(\"String is English\")\n",
        "elif string.isdigt:\n",
        "  print(\"String is Numbers\")\n",
        "elif string.isalpha and string.isdigit:\n",
        "  print(\"String is Combination of English And Numbers\")"
      ],
      "metadata": {
        "colab": {
          "base_uri": "https://localhost:8080/"
        },
        "id": "8FUtjRsm13nk",
        "outputId": "3132b5b1-4ee2-4993-e577-50871efc3ed6"
      },
      "execution_count": 67,
      "outputs": [
        {
          "output_type": "stream",
          "name": "stdout",
          "text": [
            "12\n",
            "String is English\n"
          ]
        }
      ]
    },
    {
      "cell_type": "code",
      "source": [],
      "metadata": {
        "id": "BxLeXt7x13sb"
      },
      "execution_count": null,
      "outputs": []
    },
    {
      "cell_type": "code",
      "source": [],
      "metadata": {
        "id": "rCI2MAVg13vI"
      },
      "execution_count": null,
      "outputs": []
    },
    {
      "cell_type": "code",
      "source": [],
      "metadata": {
        "id": "rOIcM0Pt13xo"
      },
      "execution_count": null,
      "outputs": []
    },
    {
      "cell_type": "code",
      "source": [],
      "metadata": {
        "id": "LXLoz7_Y13z_"
      },
      "execution_count": null,
      "outputs": []
    },
    {
      "cell_type": "code",
      "source": [],
      "metadata": {
        "id": "VBEmApIb132i"
      },
      "execution_count": null,
      "outputs": []
    },
    {
      "cell_type": "code",
      "source": [],
      "metadata": {
        "id": "Vn9uBzGD1342"
      },
      "execution_count": null,
      "outputs": []
    },
    {
      "cell_type": "code",
      "source": [],
      "metadata": {
        "id": "VmhiXocV137g"
      },
      "execution_count": null,
      "outputs": []
    },
    {
      "cell_type": "code",
      "source": [],
      "metadata": {
        "id": "eJcnhC_e139x"
      },
      "execution_count": null,
      "outputs": []
    },
    {
      "cell_type": "code",
      "source": [],
      "metadata": {
        "id": "pF9_X7em14AT"
      },
      "execution_count": null,
      "outputs": []
    },
    {
      "cell_type": "code",
      "source": [],
      "metadata": {
        "id": "-LSYm14Z14Cq"
      },
      "execution_count": null,
      "outputs": []
    },
    {
      "cell_type": "code",
      "source": [],
      "metadata": {
        "id": "VsgZBXdp14Ew"
      },
      "execution_count": null,
      "outputs": []
    },
    {
      "cell_type": "code",
      "source": [],
      "metadata": {
        "id": "xTGUDkau14Hm"
      },
      "execution_count": null,
      "outputs": []
    },
    {
      "cell_type": "code",
      "source": [],
      "metadata": {
        "id": "J6uR1juy14J4"
      },
      "execution_count": null,
      "outputs": []
    },
    {
      "cell_type": "code",
      "source": [],
      "metadata": {
        "id": "D912ttnQqfgb"
      },
      "execution_count": null,
      "outputs": []
    },
    {
      "cell_type": "code",
      "source": [],
      "metadata": {
        "id": "ahoYQTuAqfi5"
      },
      "execution_count": null,
      "outputs": []
    }
  ]
}