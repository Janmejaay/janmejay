{
  "nbformat": 4,
  "nbformat_minor": 0,
  "metadata": {
    "colab": {
      "provenance": []
    },
    "kernelspec": {
      "name": "python3",
      "display_name": "Python 3"
    },
    "language_info": {
      "name": "python"
    }
  },
  "cells": [
    {
      "cell_type": "markdown",
      "source": [
        "## 1.Write a Python program to sum all the elements in a list.\n",
        "\n"
      ],
      "metadata": {
        "id": "xwX9Xs7O9iVh"
      }
    },
    {
      "cell_type": "code",
      "source": [
        "my_list=[1,2,3,4,5,6,7,8,9,10]"
      ],
      "metadata": {
        "id": "nucePgKp9oI-"
      },
      "execution_count": 1,
      "outputs": []
    },
    {
      "cell_type": "code",
      "source": [
        "print(sum(my_list))"
      ],
      "metadata": {
        "colab": {
          "base_uri": "https://localhost:8080/"
        },
        "id": "AUD9ANjb9v4y",
        "outputId": "965f50ef-181f-43ab-94fc-7e5506c7451f"
      },
      "execution_count": 2,
      "outputs": [
        {
          "output_type": "stream",
          "name": "stdout",
          "text": [
            "55\n"
          ]
        }
      ]
    },
    {
      "cell_type": "markdown",
      "source": [
        "## 2. Write a Python program to find the largest element in a list.\n"
      ],
      "metadata": {
        "id": "D8bvjmIy935p"
      }
    },
    {
      "cell_type": "code",
      "source": [
        "print(max(my_list))"
      ],
      "metadata": {
        "colab": {
          "base_uri": "https://localhost:8080/"
        },
        "id": "SSrnvDqd97Zn",
        "outputId": "96108f78-9f0c-4aeb-c56a-641738aeb557"
      },
      "execution_count": 3,
      "outputs": [
        {
          "output_type": "stream",
          "name": "stdout",
          "text": [
            "10\n"
          ]
        }
      ]
    },
    {
      "cell_type": "markdown",
      "source": [
        "## 3. Write a Python program to count the number of elements in a list."
      ],
      "metadata": {
        "id": "x7xUiIus9_Xz"
      }
    },
    {
      "cell_type": "code",
      "source": [
        "print(len(my_list))"
      ],
      "metadata": {
        "colab": {
          "base_uri": "https://localhost:8080/"
        },
        "id": "kd0FNJnb-Cga",
        "outputId": "23a4028b-324f-4474-83e4-69df46ad3ae7"
      },
      "execution_count": 4,
      "outputs": [
        {
          "output_type": "stream",
          "name": "stdout",
          "text": [
            "10\n"
          ]
        }
      ]
    },
    {
      "cell_type": "markdown",
      "source": [
        "## 4. Write a Python program to find the average of elements in a list."
      ],
      "metadata": {
        "id": "VYkL3hG0-J5N"
      }
    },
    {
      "cell_type": "code",
      "source": [
        "avg=sum(my_list)/ len(my_list)\n",
        "print(avg)"
      ],
      "metadata": {
        "colab": {
          "base_uri": "https://localhost:8080/"
        },
        "id": "j4LkPIN3-Ol8",
        "outputId": "98018f66-baed-43a9-e788-d914c9afe76d"
      },
      "execution_count": 6,
      "outputs": [
        {
          "output_type": "stream",
          "name": "stdout",
          "text": [
            "5.5\n"
          ]
        }
      ]
    },
    {
      "cell_type": "markdown",
      "source": [
        "## 5. Write a Python program to reverse a list."
      ],
      "metadata": {
        "id": "bandyeV6-rtn"
      }
    },
    {
      "cell_type": "code",
      "source": [
        "r_my_list=sorted(my_list, reverse=True)\n",
        "print(r_my_list)"
      ],
      "metadata": {
        "colab": {
          "base_uri": "https://localhost:8080/"
        },
        "id": "0hX2_Q4N-vtS",
        "outputId": "bbd94b84-7022-4743-beb9-4cf48a37ea13"
      },
      "execution_count": 8,
      "outputs": [
        {
          "output_type": "stream",
          "name": "stdout",
          "text": [
            "[10, 9, 8, 7, 6, 5, 4, 3, 2, 1]\n"
          ]
        }
      ]
    },
    {
      "cell_type": "markdown",
      "source": [
        "##6. Write a Python program to check if a given element exists in a list.\n"
      ],
      "metadata": {
        "id": "FTOl5ywq_Csx"
      }
    },
    {
      "cell_type": "code",
      "source": [
        "print(my_list.count(2))"
      ],
      "metadata": {
        "colab": {
          "base_uri": "https://localhost:8080/"
        },
        "id": "4Jp1bMUw_GHi",
        "outputId": "3bc96828-ad95-4ab6-9643-9073f1fa469d"
      },
      "execution_count": 36,
      "outputs": [
        {
          "output_type": "stream",
          "name": "stdout",
          "text": [
            "1\n"
          ]
        }
      ]
    },
    {
      "cell_type": "markdown",
      "source": [
        "##7. Write a Python program to remove duplicate elements from a list.\n"
      ],
      "metadata": {
        "id": "lDnTCKcq_O-h"
      }
    },
    {
      "cell_type": "code",
      "source": [
        "a=(1,2,3,2,1,4,5,6,6)\n",
        "c=set(a)\n",
        "print(c)"
      ],
      "metadata": {
        "colab": {
          "base_uri": "https://localhost:8080/"
        },
        "id": "auoGKouB_Sze",
        "outputId": "9f001ca5-ea83-46ff-b146-9149788f84c0"
      },
      "execution_count": 37,
      "outputs": [
        {
          "output_type": "stream",
          "name": "stdout",
          "text": [
            "{1, 2, 3, 4, 5, 6}\n"
          ]
        }
      ]
    },
    {
      "cell_type": "markdown",
      "source": [
        "## 8. Write a Python program to find the second largest element in a list.\n"
      ],
      "metadata": {
        "id": "X1dMrD2G_8Sp"
      }
    },
    {
      "cell_type": "code",
      "source": [
        "my_list[-2]"
      ],
      "metadata": {
        "colab": {
          "base_uri": "https://localhost:8080/"
        },
        "id": "jKw4_ir2AAiF",
        "outputId": "e5e89067-cdbc-4dca-9d23-d1e517a766d1"
      },
      "execution_count": 20,
      "outputs": [
        {
          "output_type": "execute_result",
          "data": {
            "text/plain": [
              "9"
            ]
          },
          "metadata": {},
          "execution_count": 20
        }
      ]
    },
    {
      "cell_type": "markdown",
      "source": [
        "## 9. Write a Python program to sort elements in a list in ascending order.\n"
      ],
      "metadata": {
        "id": "XcAPO7X6AeKP"
      }
    },
    {
      "cell_type": "code",
      "source": [
        "print(sorted(my_list))"
      ],
      "metadata": {
        "colab": {
          "base_uri": "https://localhost:8080/"
        },
        "id": "FAZ4a213Ahlq",
        "outputId": "d8d8baab-5342-45b9-d2cc-a1eceac5a903"
      },
      "execution_count": 13,
      "outputs": [
        {
          "output_type": "stream",
          "name": "stdout",
          "text": [
            "[2, 3, 4, 5, 6, 7, 8, 9, 10]\n"
          ]
        }
      ]
    },
    {
      "cell_type": "markdown",
      "source": [
        "## 10. Write a Python program to merge two lists and sort them.\n"
      ],
      "metadata": {
        "id": "snJV6l4hAo89"
      }
    },
    {
      "cell_type": "code",
      "source": [
        "my_list\n",
        "my_list.extend([1,11,12,13,14,15,16])"
      ],
      "metadata": {
        "id": "f8mv9km0A7rg"
      },
      "execution_count": 23,
      "outputs": []
    },
    {
      "cell_type": "code",
      "source": [
        "sorted(my_list)"
      ],
      "metadata": {
        "colab": {
          "base_uri": "https://localhost:8080/"
        },
        "id": "pLwuSPnGCRLY",
        "outputId": "8153addd-3a31-4a57-9f50-41bd7d8e97f8"
      },
      "execution_count": 24,
      "outputs": [
        {
          "output_type": "execute_result",
          "data": {
            "text/plain": [
              "[1, 2, 3, 4, 5, 6, 7, 8, 9, 10, 11, 12, 13, 14, 15, 16]"
            ]
          },
          "metadata": {},
          "execution_count": 24
        }
      ]
    },
    {
      "cell_type": "markdown",
      "source": [
        "##11. Question: Given a nested list nested_list_row = [[1, 2, 3], [4, 5, 6], [7, 8, 9]], how can you access the number 9 from the list? Write a Python program to achieve this.\n"
      ],
      "metadata": {
        "id": "CLI3ASwaCVS4"
      }
    },
    {
      "cell_type": "code",
      "source": [
        " nested_list_row = [[1, 2, 3], [4, 5, 6], [7, 8, 9]]\n",
        ""
      ],
      "metadata": {
        "id": "IttCbXiTCa7q"
      },
      "execution_count": 25,
      "outputs": []
    },
    {
      "cell_type": "code",
      "source": [
        "nested_list_row[-1][-1]"
      ],
      "metadata": {
        "colab": {
          "base_uri": "https://localhost:8080/"
        },
        "id": "r3Q45Uz0Cg_T",
        "outputId": "f830fb40-de36-4a93-c159-f88b1c7dada2"
      },
      "execution_count": 26,
      "outputs": [
        {
          "output_type": "execute_result",
          "data": {
            "text/plain": [
              "9"
            ]
          },
          "metadata": {},
          "execution_count": 26
        }
      ]
    },
    {
      "cell_type": "markdown",
      "source": [
        "##12. Question: Suppose you have a nested list nested_list_column = [[1, 2, 3], [4, 5, 6], [7, 8, 9]], how can you access the number 8 from the list? Write a Python program to achieve this.\n"
      ],
      "metadata": {
        "id": "blfBPjNmCrar"
      }
    },
    {
      "cell_type": "code",
      "source": [
        "nested_list_row[-1][-2]"
      ],
      "metadata": {
        "colab": {
          "base_uri": "https://localhost:8080/"
        },
        "id": "TrrwKk4TCvkS",
        "outputId": "b4bbb32f-1094-4477-ab96-925cf487a977"
      },
      "execution_count": 27,
      "outputs": [
        {
          "output_type": "execute_result",
          "data": {
            "text/plain": [
              "8"
            ]
          },
          "metadata": {},
          "execution_count": 27
        }
      ]
    },
    {
      "cell_type": "markdown",
      "source": [
        "## 13. Question: How can you access the number 100 from the nested list nested_list_column = [[1, 2, 3], [4, 5, 6], [7, 8, 9,[1,55,77,100]]?\n"
      ],
      "metadata": {
        "id": "ZAG9c7lBC375"
      }
    },
    {
      "cell_type": "code",
      "source": [
        "\n",
        "\n",
        "nested_list_column[2][3][3]"
      ],
      "metadata": {
        "colab": {
          "base_uri": "https://localhost:8080/"
        },
        "id": "kEQI2hcpC-CF",
        "outputId": "aa205f62-ad06-4c9b-ae48-8f75dc9e0b1b"
      },
      "execution_count": 34,
      "outputs": [
        {
          "output_type": "execute_result",
          "data": {
            "text/plain": [
              "100"
            ]
          },
          "metadata": {},
          "execution_count": 34
        }
      ]
    },
    {
      "cell_type": "markdown",
      "source": [
        "## 14. Question: How can you access the number 100 from the nested list nested_list_column = [[1, 2, 3], [4, 5, 6], [7, 8, 9, [1,55,77,100]] using negative indexing?"
      ],
      "metadata": {
        "id": "cQbsmo2jDNsv"
      }
    },
    {
      "cell_type": "code",
      "source": [
        "nested_list_column[-1][-1][-1]"
      ],
      "metadata": {
        "colab": {
          "base_uri": "https://localhost:8080/"
        },
        "id": "iU2u2vF5DQ_1",
        "outputId": "5c53f7b1-6c39-4963-a037-90bd9e563392"
      },
      "execution_count": 31,
      "outputs": [
        {
          "output_type": "execute_result",
          "data": {
            "text/plain": [
              "100"
            ]
          },
          "metadata": {},
          "execution_count": 31
        }
      ]
    }
  ]
}