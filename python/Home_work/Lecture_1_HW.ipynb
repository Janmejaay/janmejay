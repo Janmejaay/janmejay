{
  "nbformat": 4,
  "nbformat_minor": 0,
  "metadata": {
    "colab": {
      "provenance": []
    },
    "kernelspec": {
      "name": "python3",
      "display_name": "Python 3"
    },
    "language_info": {
      "name": "python"
    }
  },
  "cells": [
    {
      "cell_type": "code",
      "execution_count": null,
      "metadata": {
        "id": "HIOZ4FzVkI2s"
      },
      "outputs": [],
      "source": []
    },
    {
      "cell_type": "markdown",
      "source": [
        "## Q1- Write a Python program to take two numbers as input from the user and display their sum."
      ],
      "metadata": {
        "id": "n89W2C7NmjWo"
      }
    },
    {
      "cell_type": "code",
      "source": [
        "num1 =int(input(\"Enter 1st Number -\"))\n",
        "num2 =int(input(\"Enter 2nd Number -\"))\n",
        "\n",
        "addition=num1+num2\n",
        "print(\"Addition of two numbers is\",addition)"
      ],
      "metadata": {
        "colab": {
          "base_uri": "https://localhost:8080/"
        },
        "id": "E-oGsJDfnE6z",
        "outputId": "85ec24e7-7d91-49c6-ca9d-79c8c3a52a61"
      },
      "execution_count": null,
      "outputs": [
        {
          "output_type": "stream",
          "name": "stdout",
          "text": [
            "Enter 1st Number -1\n",
            "Enter 2nd Number -2\n",
            "Addition of two numbers is 3\n"
          ]
        }
      ]
    },
    {
      "cell_type": "markdown",
      "source": [
        "## Q2 - Calculate and print the midpoint of two numbers entered by the user."
      ],
      "metadata": {
        "id": "36UEcpOjnslC"
      }
    },
    {
      "cell_type": "code",
      "source": [
        "num1 =int(input(\"Enter 1st Number -\"))\n",
        "num2 =int(input(\"Enter 2nd Number -\"))\n",
        "\n",
        "addition=num1+num2\n",
        "midpoint=addition/2\n",
        "print(\"Addition of two Number is\",midpoint)"
      ],
      "metadata": {
        "colab": {
          "base_uri": "https://localhost:8080/"
        },
        "id": "S2eKYypGnwAS",
        "outputId": "3a13508d-142f-4ac5-f677-c99a4dbb5679"
      },
      "execution_count": null,
      "outputs": [
        {
          "output_type": "stream",
          "name": "stdout",
          "text": [
            "Enter 1st Number -10\n",
            "Enter 2nd Number -22\n",
            "Addition of two Number is 16.0\n"
          ]
        }
      ]
    },
    {
      "cell_type": "markdown",
      "source": [
        "## Q3 - Write a Python program to calculate the area of a triangle using the formula: area = 0.5 * base * height."
      ],
      "metadata": {
        "id": "Vgb2ZyVnn_-8"
      }
    },
    {
      "cell_type": "code",
      "source": [
        "num1 =int(input(\"Enter Base of triangle -\"))\n",
        "num2 =int(input(\"Enter Height of triangle -\"))\n",
        "\n",
        "area=0.5*num1*num2\n",
        "print(\"Area of Triangle is\",area)"
      ],
      "metadata": {
        "colab": {
          "base_uri": "https://localhost:8080/"
        },
        "id": "cei39fhZoKOG",
        "outputId": "a0f532fa-8c86-4730-a906-270a0f6536a8"
      },
      "execution_count": null,
      "outputs": [
        {
          "output_type": "stream",
          "name": "stdout",
          "text": [
            "Enter Base of triangle -10\n",
            "Enter Height of triangle -20\n",
            "Area of Triangle is 100.0\n"
          ]
        }
      ]
    },
    {
      "cell_type": "markdown",
      "source": [
        "## Q4 -Take three numbers as input from the user and display their product."
      ],
      "metadata": {
        "id": "uJ49FvLYou3r"
      }
    },
    {
      "cell_type": "code",
      "source": [
        "num1 =int(input(\"Enter 1st Number -\"))\n",
        "num2 =int(input(\"Enter 2nd Number -\"))\n",
        "num3 =int(input(\"Enter 3rd Number -\"))\n",
        "\n",
        "product=num1*num2*num3\n",
        "\n",
        "print(\"The Product is\", product)"
      ],
      "metadata": {
        "colab": {
          "base_uri": "https://localhost:8080/"
        },
        "id": "2V55nxiMozZw",
        "outputId": "7379a6f3-7cb7-4d7e-de07-3352da038091"
      },
      "execution_count": null,
      "outputs": [
        {
          "output_type": "stream",
          "name": "stdout",
          "text": [
            "Enter 1st Number -1\n",
            "Enter 2nd Number -2\n",
            "Enter 3rd Number -3\n",
            "The Product is 6\n"
          ]
        }
      ]
    },
    {
      "cell_type": "markdown",
      "source": [
        "## Q5 - Take a number as input and display its square and cube"
      ],
      "metadata": {
        "id": "ZiIFm3ORpXH2"
      }
    },
    {
      "cell_type": "code",
      "source": [
        "num1 =int(input(\"Enter Number -\"))\n",
        "square= num1**2\n",
        "cube= num1**3\n",
        "\n",
        "print(\"The square is\",square)\n",
        "print(\"The cube is\", cube)"
      ],
      "metadata": {
        "colab": {
          "base_uri": "https://localhost:8080/"
        },
        "id": "aUSlL2MPpZCE",
        "outputId": "a684e472-a802-4917-9039-5fc25e0c5b83"
      },
      "execution_count": null,
      "outputs": [
        {
          "output_type": "stream",
          "name": "stdout",
          "text": [
            "Enter Number -2\n",
            "The square is 4\n",
            "The cube is 8\n"
          ]
        }
      ]
    },
    {
      "cell_type": "markdown",
      "source": [
        "## Q6-Take two numbers as input and display their quotient and remainder."
      ],
      "metadata": {
        "id": "kEzqFyqEpynb"
      }
    },
    {
      "cell_type": "code",
      "source": [
        "num1 =int(input(\"Enter 1st Number -\"))\n",
        "num2 =int(input(\"Enter 2nd Number -\"))\n",
        "\n",
        "quotient = num1//num2\n",
        "remainder= num1%num2\n",
        "\n",
        "print(\"The quotient is\",quotient)\n",
        "print(\"The remainder is\",remainder)"
      ],
      "metadata": {
        "colab": {
          "base_uri": "https://localhost:8080/"
        },
        "id": "eHka-rC1p1Gc",
        "outputId": "689074e2-59be-438a-f485-fb481fdff6d4"
      },
      "execution_count": null,
      "outputs": [
        {
          "output_type": "stream",
          "name": "stdout",
          "text": [
            "Enter 1st Number -8\n",
            "Enter 2nd Number -2\n",
            "The quotient is 4\n",
            "The remainder is 0\n"
          ]
        }
      ]
    },
    {
      "cell_type": "markdown",
      "source": [
        "## Q7- Take three numbers as input and display their average."
      ],
      "metadata": {
        "id": "OemEFQVMqemC"
      }
    },
    {
      "cell_type": "code",
      "source": [
        "num1 =int(input(\"Enter 1st Number -\"))\n",
        "num2 =int(input(\"Enter 2nd Number -\"))\n",
        "num3 =int(input(\"Enter 3rd Number -\"))\n",
        "\n",
        "addition=num1+num2+num3\n",
        "average=addition/3\n",
        "\n",
        "print(\"The average is\",average)"
      ],
      "metadata": {
        "colab": {
          "base_uri": "https://localhost:8080/"
        },
        "id": "Gb2yD-LTqgig",
        "outputId": "4c92a625-3b48-41d8-cc82-edba5b4fbe55"
      },
      "execution_count": null,
      "outputs": [
        {
          "output_type": "stream",
          "name": "stdout",
          "text": [
            "Enter 1st Number -1\n",
            "Enter 2nd Number -1\n",
            "Enter 3rd Number -1\n",
            "The average is 1.0\n"
          ]
        }
      ]
    },
    {
      "cell_type": "markdown",
      "source": [
        "## Q8- Write a Python program to calculate the area of a rectangle using the formula: area = length * width."
      ],
      "metadata": {
        "id": "lbAoykmMrGGG"
      }
    },
    {
      "cell_type": "code",
      "source": [
        "num1 =int(input(\"Enter length -\"))\n",
        "num2 =int(input(\"Enter width -\"))\n",
        "\n",
        "area=num1*num2\n",
        "\n",
        "print(\"The area of rectangle\",area)"
      ],
      "metadata": {
        "colab": {
          "base_uri": "https://localhost:8080/"
        },
        "id": "3Ru8N2RorSre",
        "outputId": "5695c09d-7cce-4762-ce92-a74952ea99a0"
      },
      "execution_count": null,
      "outputs": [
        {
          "output_type": "stream",
          "name": "stdout",
          "text": [
            "Enter length -2\n",
            "Enter width -5\n",
            "The area of rectangle 10\n"
          ]
        }
      ]
    },
    {
      "cell_type": "markdown",
      "source": [
        "## Q9- Take five numbers as input representing marks obtained and total marks. Display the percentage."
      ],
      "metadata": {
        "id": "sc31m2s6sDYI"
      }
    },
    {
      "cell_type": "code",
      "source": [
        "num1 =int(input(\"Enter 1st Subject Marks -\"))\n",
        "num2 =int(input(\"Enter 2nd Subject Marks -\"))\n",
        "num3 =int(input(\"Enter 3rd Subject Marks -\"))\n",
        "num4 =int(input(\"Enter 4th Subject Marks -\"))\n",
        "num5 =int(input(\"Enter 5th Subject Marks -\"))\n",
        "\n",
        "total= num1+num2+num3+num4+num5\n",
        "percentage=total/5*10\n",
        "\n",
        "print(\"Total Marks Obtained\",total)\n",
        "print(\"Percentage\",percentage)"
      ],
      "metadata": {
        "colab": {
          "base_uri": "https://localhost:8080/"
        },
        "id": "djEa9C1DsWCM",
        "outputId": "37ceaa11-8890-4d61-f54b-d1d170e50713"
      },
      "execution_count": null,
      "outputs": [
        {
          "output_type": "stream",
          "name": "stdout",
          "text": [
            "Enter 1st Subject Marks -7\n",
            "Enter 2nd Subject Marks -6\n",
            "Enter 3rd Subject Marks -8\n",
            "Enter 4th Subject Marks -9\n",
            "Enter 5th Subject Marks -6\n",
            "Total Marks Obtained 36\n",
            "Percentage 72.0\n"
          ]
        }
      ]
    }
  ]
}