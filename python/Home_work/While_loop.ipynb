{
  "nbformat": 4,
  "nbformat_minor": 0,
  "metadata": {
    "colab": {
      "provenance": []
    },
    "kernelspec": {
      "name": "python3",
      "display_name": "Python 3"
    },
    "language_info": {
      "name": "python"
    }
  },
  "cells": [
    {
      "cell_type": "code",
      "source": [
        "x = 1\n",
        "sum = 0\n",
        "while x <= 50:\n",
        "  sum = sum + x\n",
        "  x = x + 1\n",
        "print(sum)"
      ],
      "metadata": {
        "colab": {
          "base_uri": "https://localhost:8080/"
        },
        "id": "NpBMyJti1PTV",
        "outputId": "4088d930-1c4a-43dc-b770-9e33474049ff"
      },
      "execution_count": null,
      "outputs": [
        {
          "output_type": "stream",
          "name": "stdout",
          "text": [
            "1275\n"
          ]
        }
      ]
    },
    {
      "cell_type": "code",
      "source": [],
      "metadata": {
        "id": "1qSHX2-L2o3f"
      },
      "execution_count": null,
      "outputs": []
    },
    {
      "cell_type": "markdown",
      "source": [
        "##1. Write a Python program to print numbers from 1 to 10 using a while loop.\n"
      ],
      "metadata": {
        "id": "qYosnwPW24bW"
      }
    },
    {
      "cell_type": "code",
      "source": [
        "x = 1\n",
        "while x <= 10:\n",
        "  print(x)\n",
        "  x += 1\n"
      ],
      "metadata": {
        "colab": {
          "base_uri": "https://localhost:8080/"
        },
        "id": "zc4VHfS525Rw",
        "outputId": "775590c5-aa2f-409b-bb9c-16763ac7069a"
      },
      "execution_count": 7,
      "outputs": [
        {
          "output_type": "stream",
          "name": "stdout",
          "text": [
            "1\n",
            "2\n",
            "3\n",
            "4\n",
            "5\n",
            "6\n",
            "7\n",
            "8\n",
            "9\n",
            "10\n"
          ]
        }
      ]
    },
    {
      "cell_type": "markdown",
      "source": [
        "## 2. Take input from the user and find the factorial of the number using a for loop.\n"
      ],
      "metadata": {
        "id": "rl9-rBVt3A9F"
      }
    },
    {
      "cell_type": "code",
      "source": [
        "##internet\n",
        "num = int(input(\"Enter a number: \"))\n",
        "factorial = 1\n",
        "for i in range(1,num + 1):\n",
        "  factorial = factorial*i\n",
        "print(\"The factorial of num is: \",factorial)"
      ],
      "metadata": {
        "colab": {
          "base_uri": "https://localhost:8080/"
        },
        "id": "KwUQs9tu3LcI",
        "outputId": "a2947e10-7c5c-454a-904c-fe34d9c21053"
      },
      "execution_count": 13,
      "outputs": [
        {
          "output_type": "stream",
          "name": "stdout",
          "text": [
            "Enter a number: 6\n",
            "The factorial of num is:  720\n"
          ]
        }
      ]
    },
    {
      "cell_type": "markdown",
      "source": [
        "##3. Write a Python program to print even numbers from 2 to 20 using a while loop.\n"
      ],
      "metadata": {
        "id": "P-RYZVZh3TfF"
      }
    },
    {
      "cell_type": "code",
      "source": [
        "x = 2\n",
        "while x <= 20:\n",
        "  x = x + 2\n",
        "  print(x)"
      ],
      "metadata": {
        "colab": {
          "base_uri": "https://localhost:8080/"
        },
        "id": "4btu53Yh3nVH",
        "outputId": "6403282e-47a6-4e13-e3fd-794e0ace2602"
      },
      "execution_count": 15,
      "outputs": [
        {
          "output_type": "stream",
          "name": "stdout",
          "text": [
            "4\n",
            "6\n",
            "8\n",
            "10\n",
            "12\n",
            "14\n",
            "16\n",
            "18\n",
            "20\n",
            "22\n"
          ]
        }
      ]
    },
    {
      "cell_type": "markdown",
      "source": [
        "##4.Write a Python program to find the factorial of a number entered by the user using a\n"
      ],
      "metadata": {
        "id": "rwOnZ7WX3yba"
      }
    },
    {
      "cell_type": "code",
      "source": [
        "## got from internet\n",
        "num = int(input(\"Enter a number: \"))\n",
        "factorial = 1\n",
        "for i in range(1,num + 1):\n",
        "  factorial = factorial*i\n",
        "print(\"The factorial of num is: \",factorial)"
      ],
      "metadata": {
        "colab": {
          "base_uri": "https://localhost:8080/"
        },
        "id": "RahFywqs4Kmd",
        "outputId": "66179761-7bee-43b4-9d4a-50f891a12975"
      },
      "execution_count": 16,
      "outputs": [
        {
          "output_type": "stream",
          "name": "stdout",
          "text": [
            "Enter a number: 3\n",
            "The factorial of num is:  6\n"
          ]
        }
      ]
    },
    {
      "cell_type": "markdown",
      "source": [],
      "metadata": {
        "id": "wJAnH8Y16EnN"
      }
    },
    {
      "cell_type": "markdown",
      "source": [
        "##5.Write a Python program to print the Fibonacci series up to 50 using a while loop.\n"
      ],
      "metadata": {
        "id": "V-Q8pp534Tp_"
      }
    },
    {
      "cell_type": "code",
      "source": [
        "## got from imternet\n",
        "\n",
        "\n",
        "x = 0\n",
        "y = 1\n",
        "while y < 50:\n",
        "  print(y)\n",
        "  x, y = y, x+y"
      ],
      "metadata": {
        "colab": {
          "base_uri": "https://localhost:8080/"
        },
        "id": "g6KLlBAE4VqI",
        "outputId": "f0c27b1c-d628-459d-8ad9-599422fb12ba"
      },
      "execution_count": 17,
      "outputs": [
        {
          "output_type": "stream",
          "name": "stdout",
          "text": [
            "1\n",
            "1\n",
            "2\n",
            "3\n",
            "5\n",
            "8\n",
            "13\n",
            "21\n",
            "34\n"
          ]
        }
      ]
    },
    {
      "cell_type": "markdown",
      "source": [
        "##6. Write a Python program to find the square of numbers from 1 to 10 using a while loop\n"
      ],
      "metadata": {
        "id": "64CJiphA4toi"
      }
    },
    {
      "cell_type": "code",
      "source": [
        "x = 1\n",
        "while x <= 10:\n",
        "  square = x**2\n",
        "  print(square)\n",
        "  x=x+ 1\n"
      ],
      "metadata": {
        "colab": {
          "base_uri": "https://localhost:8080/"
        },
        "id": "nXXKP92Z4xY8",
        "outputId": "e5f3ed95-5ef5-41c3-b42b-7f230609f624"
      },
      "execution_count": 19,
      "outputs": [
        {
          "output_type": "stream",
          "name": "stdout",
          "text": [
            "1\n",
            "4\n",
            "9\n",
            "16\n",
            "25\n",
            "36\n",
            "49\n",
            "64\n",
            "81\n",
            "100\n"
          ]
        }
      ]
    },
    {
      "cell_type": "markdown",
      "source": [
        "##7. Write a Python program to print numbers from 10 to 1 in reverse order using a while loop.\n"
      ],
      "metadata": {
        "id": "YBFY0FV95M1a"
      }
    },
    {
      "cell_type": "code",
      "source": [
        "x = 10\n",
        "while x > 0:\n",
        "  print(x)\n",
        "  x=x- 1\n"
      ],
      "metadata": {
        "colab": {
          "base_uri": "https://localhost:8080/"
        },
        "id": "UECCmJJH5P5N",
        "outputId": "2fbc8058-95c2-4e38-9a18-c024048eb5c8"
      },
      "execution_count": 20,
      "outputs": [
        {
          "output_type": "stream",
          "name": "stdout",
          "text": [
            "10\n",
            "9\n",
            "8\n",
            "7\n",
            "6\n",
            "5\n",
            "4\n",
            "3\n",
            "2\n",
            "1\n"
          ]
        }
      ]
    },
    {
      "cell_type": "markdown",
      "source": [
        "##8.Write a Python program to count the number of digits in a positive integer entered by the user using a while loop.\n"
      ],
      "metadata": {
        "id": "pZwwaX1h5cr3"
      }
    },
    {
      "cell_type": "code",
      "source": [
        "##got from internet\n",
        "\n",
        "\n",
        "num = int(input(\"Enter a positive integer: \"))\n",
        "count = 0\n",
        "while num > 0:\n",
        "  num = num // 10\n",
        "  count = count + 1\n",
        "print(\"The number of digits in the integer is:\", count)\n"
      ],
      "metadata": {
        "colab": {
          "base_uri": "https://localhost:8080/"
        },
        "id": "Uev0ieA-5gxe",
        "outputId": "70453125-3573-496f-dae5-60e5ddbc6559"
      },
      "execution_count": 22,
      "outputs": [
        {
          "output_type": "stream",
          "name": "stdout",
          "text": [
            "Enter a positive integer: 15\n",
            "The number of digits in the integer is: 2\n"
          ]
        }
      ]
    },
    {
      "cell_type": "markdown",
      "source": [
        "##9. Write a Python program to find the sum of digits of a positive integer entered by the user\n"
      ],
      "metadata": {
        "id": "tlAHlMRV6I_N"
      }
    },
    {
      "cell_type": "code",
      "source": [
        "#internet\n",
        "num = int(input(\"Enter a positive integer: \"))\n",
        "sum = 0\n",
        "while num > 0:\n",
        "  sum = sum + num % 10\n",
        "  num = num // 10\n",
        "print(\"The sum of digits of the integer is:\", sum)\n"
      ],
      "metadata": {
        "colab": {
          "base_uri": "https://localhost:8080/"
        },
        "id": "GjLKqQ7v6KEo",
        "outputId": "686e41d3-b86c-44b9-adac-b1ee1c0c15e1"
      },
      "execution_count": 25,
      "outputs": [
        {
          "output_type": "stream",
          "name": "stdout",
          "text": [
            "Enter a positive integer: 25\n",
            "The sum of digits of the integer is: 7\n"
          ]
        }
      ]
    },
    {
      "cell_type": "markdown",
      "source": [
        "##10.Write a Python program to check if a number entered by the user is a palindrome using a\n"
      ],
      "metadata": {
        "id": "goUB63gc6vT8"
      }
    },
    {
      "cell_type": "code",
      "source": [
        "## COUDNT FIGURE OUT HOW TO DO IT WITH WHILE\n",
        "\n",
        "num = input(\"Enter a number: \")\n",
        "rev = num[::-1]\n",
        "if num == rev:\n",
        "  print(\"The number is a palindrome.\")\n",
        "else:\n",
        "  print(\"The number is not a palindrome.\")\n"
      ],
      "metadata": {
        "colab": {
          "base_uri": "https://localhost:8080/"
        },
        "id": "yDC_Dx1m6sfL",
        "outputId": "b040e0e0-9341-4e07-adc2-0f3282f93564"
      },
      "execution_count": 26,
      "outputs": [
        {
          "output_type": "stream",
          "name": "stdout",
          "text": [
            "Enter a number: 1001\n",
            "The number is a palindrome.\n"
          ]
        }
      ]
    },
    {
      "cell_type": "markdown",
      "source": [
        "##11. Write a Python program to find the factorial of a number entered by the user using a\n"
      ],
      "metadata": {
        "id": "A6FJZF0C7J80"
      }
    },
    {
      "cell_type": "code",
      "source": [
        "a = int(input(\"Enter a number: \"))\n",
        "factorial = 1\n",
        "while a > 0:\n",
        "  factorial = factorial * a\n",
        "  a= a - 1\n",
        "print(\"The factorial of\", a, \"is\", factorial)\n"
      ],
      "metadata": {
        "colab": {
          "base_uri": "https://localhost:8080/"
        },
        "id": "tTnPT9s77OgN",
        "outputId": "adbed720-70e2-4161-c02d-220989b5c3dd"
      },
      "execution_count": 27,
      "outputs": [
        {
          "output_type": "stream",
          "name": "stdout",
          "text": [
            "Enter a number: 2\n",
            "The factorial of 0 is 2\n"
          ]
        }
      ]
    },
    {
      "cell_type": "markdown",
      "source": [
        "##12. Write a Python program to reverse a number entered by the user using a while loop.\n"
      ],
      "metadata": {
        "id": "NvFk_bh5884g"
      }
    },
    {
      "cell_type": "code",
      "source": [
        "## internet\n",
        "num = int(input(\"Enter a number: \"))\n",
        "reversed_num = 0\n",
        "while num > 0:\n",
        "  remainder = num % 10\n",
        "  reversed_num = reversed_num * 10 + remainder\n",
        "  num = num // 10\n",
        "print(\"Reversed Number:\", reversed_num)\n"
      ],
      "metadata": {
        "id": "8Os4Bq248-Uh"
      },
      "execution_count": null,
      "outputs": []
    },
    {
      "cell_type": "markdown",
      "source": [
        "##13. Write a Python program to print the multiplication table of a number entered by the user\n"
      ],
      "metadata": {
        "id": "CCTHV3AF9JFh"
      }
    },
    {
      "cell_type": "code",
      "source": [
        "num = int(input(\"Enter a number: \"))\n",
        "i = 1\n",
        "while i <= 10:\n",
        "  print(num, \"x\", i, \"=\", num * i)\n",
        "  i = i + 1\n"
      ],
      "metadata": {
        "colab": {
          "base_uri": "https://localhost:8080/"
        },
        "id": "Ze9pbJXg9Mjt",
        "outputId": "3965824d-73b5-498e-805f-a38bfc1a4b6e"
      },
      "execution_count": 29,
      "outputs": [
        {
          "output_type": "stream",
          "name": "stdout",
          "text": [
            "Enter a number: 5\n",
            "5 x 1 = 5\n",
            "5 x 2 = 10\n",
            "5 x 3 = 15\n",
            "5 x 4 = 20\n",
            "5 x 5 = 25\n",
            "5 x 6 = 30\n",
            "5 x 7 = 35\n",
            "5 x 8 = 40\n",
            "5 x 9 = 45\n",
            "5 x 10 = 50\n"
          ]
        }
      ]
    },
    {
      "cell_type": "markdown",
      "source": [
        "##14.Write a Python program to calculate the power of a number entered by the user using a while loop."
      ],
      "metadata": {
        "id": "5cSI_Q7F9sKZ"
      }
    },
    {
      "cell_type": "code",
      "source": [
        "## internet\n",
        "num = int(input(\"Enter a number: \"))\n",
        "power = int(input(\"Enter the power: \"))\n",
        "result = 1\n",
        "i = 1\n",
        "while i <= power:\n",
        "  result = result * num\n",
        "  i = i + 1\n",
        "print(num, \"raised to the power\", power, \"is\", result)\n"
      ],
      "metadata": {
        "colab": {
          "base_uri": "https://localhost:8080/"
        },
        "id": "G1I0JzFf9w3C",
        "outputId": "7cc735cd-f4f0-4010-b955-514ab91e5927"
      },
      "execution_count": 31,
      "outputs": [
        {
          "output_type": "stream",
          "name": "stdout",
          "text": [
            "Enter a number: 2\n",
            "Enter the power: 2\n",
            "2 raised to the power 2 is 4\n"
          ]
        }
      ]
    }
  ]
}