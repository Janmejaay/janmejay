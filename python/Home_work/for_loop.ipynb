{
  "nbformat": 4,
  "nbformat_minor": 0,
  "metadata": {
    "colab": {
      "provenance": []
    },
    "kernelspec": {
      "name": "python3",
      "display_name": "Python 3"
    },
    "language_info": {
      "name": "python"
    }
  },
  "cells": [
    {
      "cell_type": "code",
      "execution_count": null,
      "metadata": {
        "colab": {
          "base_uri": "https://localhost:8080/"
        },
        "id": "hi-LOujIzQbb",
        "outputId": "6dc9c523-3f76-4d68-8096-2af8adce58a9"
      },
      "outputs": [
        {
          "output_type": "stream",
          "name": "stdout",
          "text": [
            "I'm a apple\n",
            "I'm a banana\n",
            "I'm a cherry\n"
          ]
        }
      ],
      "source": [
        "fruits = [\"apple\", \"banana\", \"cherry\"]\n",
        "for a in fruits:\n",
        "  print(\"I'm a\",a)"
      ]
    },
    {
      "cell_type": "code",
      "source": [
        "fruits = [\"apple\", \"banana\", \"cherry\"]\n",
        "for index,fruit in enumerate(fruits):\n",
        "  print(\"Index\", index,\":\", fruit)"
      ],
      "metadata": {
        "colab": {
          "base_uri": "https://localhost:8080/"
        },
        "id": "VIycsqxQDLVU",
        "outputId": "5b49aad1-db19-4984-e570-86f183638384"
      },
      "execution_count": null,
      "outputs": [
        {
          "output_type": "stream",
          "name": "stdout",
          "text": [
            "Index 0 : apple\n",
            "Index 1 : banana\n",
            "Index 2 : cherry\n"
          ]
        }
      ]
    },
    {
      "cell_type": "markdown",
      "source": [
        "##Square root Problem"
      ],
      "metadata": {
        "id": "gGVjRqq0GwTZ"
      }
    },
    {
      "cell_type": "code",
      "source": [
        "import math\n",
        "list=[1,2,3,4,5,6,7,8,9,10,11,12]\n",
        "for i in list:\n",
        "  if i % 2 == 0:\n",
        "    ans = math.sqrt(i)\n",
        "    print(\"The SQRT of\", i, \"is\", ans)"
      ],
      "metadata": {
        "colab": {
          "base_uri": "https://localhost:8080/"
        },
        "id": "cv64iExHE_e1",
        "outputId": "da69dc3b-8c07-47b2-b6b8-7fe5af53e8d4"
      },
      "execution_count": null,
      "outputs": [
        {
          "output_type": "stream",
          "name": "stdout",
          "text": [
            "The SQRT of 2 is 1.4142135623730951\n",
            "The SQRT of 4 is 2.0\n",
            "The SQRT of 6 is 2.449489742783178\n",
            "The SQRT of 8 is 2.8284271247461903\n",
            "The SQRT of 10 is 3.1622776601683795\n",
            "The SQRT of 12 is 3.4641016151377544\n"
          ]
        }
      ]
    },
    {
      "cell_type": "code",
      "source": [
        "for index,n in enumerate(\"janmejay\"):\n",
        "  print(\"Index\", index,\":\", n)"
      ],
      "metadata": {
        "colab": {
          "base_uri": "https://localhost:8080/"
        },
        "id": "eHTbzVj1E_k7",
        "outputId": "43c01854-ce3c-4654-ac61-8e4c8df07ae4"
      },
      "execution_count": null,
      "outputs": [
        {
          "output_type": "stream",
          "name": "stdout",
          "text": [
            "Index 0 : j\n",
            "Index 1 : a\n",
            "Index 2 : n\n",
            "Index 3 : m\n",
            "Index 4 : e\n",
            "Index 5 : j\n",
            "Index 6 : a\n",
            "Index 7 : y\n"
          ]
        }
      ]
    },
    {
      "cell_type": "code",
      "source": [
        "for i in range(int(input(\"Enter\")),int(input(\"Enter\"))):\n",
        "  if i % 2==0:\n",
        "    print(i*i,end=\" , \")"
      ],
      "metadata": {
        "id": "CH3QhrcsE_rY",
        "colab": {
          "base_uri": "https://localhost:8080/"
        },
        "outputId": "531e1354-021e-4404-fc69-c8d6431fc7b0"
      },
      "execution_count": null,
      "outputs": [
        {
          "output_type": "stream",
          "name": "stdout",
          "text": [
            "Enter1\n",
            "Enter21\n",
            "4 , 16 , 36 , 64 , 100 , 144 , 196 , 256 , 324 , 400 , "
          ]
        }
      ]
    },
    {
      "cell_type": "code",
      "source": [
        "list=[1,2,3,4,5,6,7,8,9,10,11,12,13,14,15,16]\n",
        "num=(int(input()))\n",
        "for i in list:\n",
        "for i in range(num):\n",
        "  if i == int(input(\"Enter Index\")):\n",
        "    break"
      ],
      "metadata": {
        "id": "C8GHf_45E_vD",
        "colab": {
          "base_uri": "https://localhost:8080/",
          "height": 106
        },
        "outputId": "e9dcf3cb-95bf-4042-e076-9da4f1f14111"
      },
      "execution_count": null,
      "outputs": [
        {
          "output_type": "error",
          "ename": "IndentationError",
          "evalue": "expected an indented block after 'for' statement on line 3 (<ipython-input-35-e6bfc6431bc9>, line 4)",
          "traceback": [
            "\u001b[0;36m  File \u001b[0;32m\"<ipython-input-35-e6bfc6431bc9>\"\u001b[0;36m, line \u001b[0;32m4\u001b[0m\n\u001b[0;31m    for i in range(num):\u001b[0m\n\u001b[0m    ^\u001b[0m\n\u001b[0;31mIndentationError\u001b[0m\u001b[0;31m:\u001b[0m expected an indented block after 'for' statement on line 3\n"
          ]
        }
      ]
    },
    {
      "cell_type": "code",
      "source": [
        "n=10\n",
        "sum=0\n",
        "for i in range(1,n+1):\n",
        "  print(i)\n",
        "  sum=i+sum\n",
        "print(sum)"
      ],
      "metadata": {
        "id": "wFqcl4FYE_xl",
        "colab": {
          "base_uri": "https://localhost:8080/"
        },
        "outputId": "7d63e339-d17b-4786-c3ad-c8eeb65d003c"
      },
      "execution_count": null,
      "outputs": [
        {
          "output_type": "stream",
          "name": "stdout",
          "text": [
            "1\n",
            "2\n",
            "3\n",
            "4\n",
            "5\n",
            "6\n",
            "7\n",
            "8\n",
            "9\n",
            "10\n",
            "55\n"
          ]
        }
      ]
    }
  ]
}