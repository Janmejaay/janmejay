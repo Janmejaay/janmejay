{
  "nbformat": 4,
  "nbformat_minor": 0,
  "metadata": {
    "colab": {
      "provenance": []
    },
    "kernelspec": {
      "name": "python3",
      "display_name": "Python 3"
    },
    "language_info": {
      "name": "python"
    }
  },
  "cells": [
    {
      "cell_type": "code",
      "execution_count": 1,
      "metadata": {
        "id": "vr9fHnfMEdSu"
      },
      "outputs": [],
      "source": [
        "quote = \"hi my name is janmejay. Nice to meet you \""
      ]
    },
    {
      "cell_type": "code",
      "source": [
        "quote = \"hi my name is janmejay. Nice to meet you \"\n",
        "first_chars = [i[0] for i in quote.split()]\n",
        "print(first_chars)\n"
      ],
      "metadata": {
        "colab": {
          "base_uri": "https://localhost:8080/"
        },
        "id": "500MjIYPHScw",
        "outputId": "6ec67aa0-fee0-4db6-d275-c5d39c88a58d"
      },
      "execution_count": 11,
      "outputs": [
        {
          "output_type": "stream",
          "name": "stdout",
          "text": [
            "['h', 'm', 'n', 'i', 'j', 'N', 't', 'm', 'y']\n"
          ]
        }
      ]
    },
    {
      "cell_type": "markdown",
      "source": [],
      "metadata": {
        "id": "NxL5WNTGLomi"
      }
    },
    {
      "cell_type": "code",
      "source": [
        "def get_first_chars(quote):\n",
        "  first_chars = [i[0] for i in quote.split()]\n",
        "  return first_chars\n",
        "\n"
      ],
      "metadata": {
        "id": "Wf82hwE2JMpJ"
      },
      "execution_count": 9,
      "outputs": []
    },
    {
      "cell_type": "code",
      "source": [
        "get_first_chars(\"Hello my name is janmejay\")"
      ],
      "metadata": {
        "colab": {
          "base_uri": "https://localhost:8080/"
        },
        "id": "jkZaifmfJb2M",
        "outputId": "7a6589d0-6f24-4594-db3e-e4836398448b"
      },
      "execution_count": 10,
      "outputs": [
        {
          "output_type": "execute_result",
          "data": {
            "text/plain": [
              "['H', 'm', 'n', 'i', 'j']"
            ]
          },
          "metadata": {},
          "execution_count": 10
        }
      ]
    },
    {
      "cell_type": "markdown",
      "source": [
        "##1- Write a function that calculates the area of a rectangle given its length and width.\n",
        "\n",
        "Description: Create a function that takes two parameters, length and width, and returns the area of the rectangle calculated using the formula: area = length * width.\n"
      ],
      "metadata": {
        "id": "lGvbZbu5Ob8I"
      }
    },
    {
      "cell_type": "code",
      "source": [
        "def ar(length,width):\n",
        "  area=(length*width)\n",
        "  return(area)"
      ],
      "metadata": {
        "id": "i5i_hzZKOdyN"
      },
      "execution_count": 16,
      "outputs": []
    },
    {
      "cell_type": "code",
      "source": [
        "ar(10,2)"
      ],
      "metadata": {
        "colab": {
          "base_uri": "https://localhost:8080/"
        },
        "id": "Eqm0QTM_OuC-",
        "outputId": "0498e591-4854-436b-bd6d-64cd01e61d5f"
      },
      "execution_count": 17,
      "outputs": [
        {
          "output_type": "execute_result",
          "data": {
            "text/plain": [
              "20"
            ]
          },
          "metadata": {},
          "execution_count": 17
        }
      ]
    },
    {
      "cell_type": "markdown",
      "source": [
        "##2- Create a function that converts temperature from Celsius to Fahrenheit.\n",
        "\n",
        "Description: Define a function that accepts a temperature value in Celsius and returns its equivalent in Fahrenheit using the conversion formula: Fahrenheit = (Celsius * 9/5) + 32.\n"
      ],
      "metadata": {
        "id": "ELyRC_VSOyTm"
      }
    },
    {
      "cell_type": "code",
      "source": [
        "def temp(n):\n",
        "  far=(n*9/5)+32\n",
        "  return(far)"
      ],
      "metadata": {
        "id": "ZLa4Vf_6O0ba"
      },
      "execution_count": 23,
      "outputs": []
    },
    {
      "cell_type": "code",
      "source": [
        "temp(10)"
      ],
      "metadata": {
        "colab": {
          "base_uri": "https://localhost:8080/"
        },
        "id": "jUqIugqPO0dt",
        "outputId": "17a90bac-e131-4126-fdeb-2346655bcd9d"
      },
      "execution_count": 24,
      "outputs": [
        {
          "output_type": "execute_result",
          "data": {
            "text/plain": [
              "50.0"
            ]
          },
          "metadata": {},
          "execution_count": 24
        }
      ]
    },
    {
      "cell_type": "markdown",
      "source": [
        "##3- Write a function to find the factorial of a number.\n",
        "\n",
        "Description: Implement a function that computes the factorial of a given number using recursion or iteration."
      ],
      "metadata": {
        "id": "-u-NJtTrPTea"
      }
    },
    {
      "cell_type": "code",
      "source": [
        "def fact(num):\n",
        "  factorial = 1\n",
        "  for i in range(1, num + 1):\n",
        "    factorial =factorial * i\n",
        "  return factorial\n",
        "\n",
        "\n"
      ],
      "metadata": {
        "id": "2akccZLMQTQA"
      },
      "execution_count": 37,
      "outputs": []
    },
    {
      "cell_type": "code",
      "source": [
        "fact(5)"
      ],
      "metadata": {
        "colab": {
          "base_uri": "https://localhost:8080/"
        },
        "id": "pOnu2w4IQigh",
        "outputId": "6ffc8d4a-8375-472e-8392-c1c773bfe5eb"
      },
      "execution_count": 38,
      "outputs": [
        {
          "output_type": "execute_result",
          "data": {
            "text/plain": [
              "120"
            ]
          },
          "metadata": {},
          "execution_count": 38
        }
      ]
    }
  ]
}