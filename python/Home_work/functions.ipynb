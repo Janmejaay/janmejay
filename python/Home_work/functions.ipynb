{
  "nbformat": 4,
  "nbformat_minor": 0,
  "metadata": {
    "colab": {
      "provenance": []
    },
    "kernelspec": {
      "name": "python3",
      "display_name": "Python 3"
    },
    "language_info": {
      "name": "python"
    }
  },
  "cells": [
    {
      "cell_type": "code",
      "execution_count": null,
      "metadata": {
        "id": "vr9fHnfMEdSu"
      },
      "outputs": [],
      "source": [
        "quote = \"hi my name is janmejay. Nice to meet you \""
      ]
    },
    {
      "cell_type": "code",
      "source": [
        "quote = \"hi my name is janmejay. Nice to meet you \"\n",
        "first_chars = [i[0] for i in quote.split()]\n",
        "print(first_chars)\n"
      ],
      "metadata": {
        "colab": {
          "base_uri": "https://localhost:8080/"
        },
        "id": "500MjIYPHScw",
        "outputId": "6ec67aa0-fee0-4db6-d275-c5d39c88a58d"
      },
      "execution_count": null,
      "outputs": [
        {
          "output_type": "stream",
          "name": "stdout",
          "text": [
            "['h', 'm', 'n', 'i', 'j', 'N', 't', 'm', 'y']\n"
          ]
        }
      ]
    },
    {
      "cell_type": "markdown",
      "source": [],
      "metadata": {
        "id": "NxL5WNTGLomi"
      }
    },
    {
      "cell_type": "code",
      "source": [
        "def get_first_chars(quote):\n",
        "  first_chars = [i[0] for i in quote.split()]\n",
        "  return first_chars\n",
        "\n"
      ],
      "metadata": {
        "id": "Wf82hwE2JMpJ"
      },
      "execution_count": null,
      "outputs": []
    },
    {
      "cell_type": "code",
      "source": [
        "get_first_chars(\"Hello my name is janmejay\")"
      ],
      "metadata": {
        "colab": {
          "base_uri": "https://localhost:8080/"
        },
        "id": "jkZaifmfJb2M",
        "outputId": "7a6589d0-6f24-4594-db3e-e4836398448b"
      },
      "execution_count": null,
      "outputs": [
        {
          "output_type": "execute_result",
          "data": {
            "text/plain": [
              "['H', 'm', 'n', 'i', 'j']"
            ]
          },
          "metadata": {},
          "execution_count": 10
        }
      ]
    },
    {
      "cell_type": "markdown",
      "source": [
        "##1- Write a function that calculates the area of a rectangle given its length and width.\n",
        "\n",
        "Description: Create a function that takes two parameters, length and width, and returns the area of the rectangle calculated using the formula: area = length * width.\n"
      ],
      "metadata": {
        "id": "lGvbZbu5Ob8I"
      }
    },
    {
      "cell_type": "code",
      "source": [
        "def ar(length,width):\n",
        "  area=(length*width)\n",
        "  return(area)"
      ],
      "metadata": {
        "id": "i5i_hzZKOdyN"
      },
      "execution_count": null,
      "outputs": []
    },
    {
      "cell_type": "code",
      "source": [
        "ar(10,2)"
      ],
      "metadata": {
        "colab": {
          "base_uri": "https://localhost:8080/"
        },
        "id": "Eqm0QTM_OuC-",
        "outputId": "0498e591-4854-436b-bd6d-64cd01e61d5f"
      },
      "execution_count": null,
      "outputs": [
        {
          "output_type": "execute_result",
          "data": {
            "text/plain": [
              "20"
            ]
          },
          "metadata": {},
          "execution_count": 17
        }
      ]
    },
    {
      "cell_type": "markdown",
      "source": [
        "##2- Create a function that converts temperature from Celsius to Fahrenheit.\n",
        "\n",
        "Description: Define a function that accepts a temperature value in Celsius and returns its equivalent in Fahrenheit using the conversion formula: Fahrenheit = (Celsius * 9/5) + 32.\n"
      ],
      "metadata": {
        "id": "ELyRC_VSOyTm"
      }
    },
    {
      "cell_type": "code",
      "source": [
        "def temp(n):\n",
        "  far=(n*9/5)+32\n",
        "  return(far)"
      ],
      "metadata": {
        "id": "ZLa4Vf_6O0ba"
      },
      "execution_count": null,
      "outputs": []
    },
    {
      "cell_type": "code",
      "source": [
        "temp(10)"
      ],
      "metadata": {
        "colab": {
          "base_uri": "https://localhost:8080/"
        },
        "id": "jUqIugqPO0dt",
        "outputId": "17a90bac-e131-4126-fdeb-2346655bcd9d"
      },
      "execution_count": null,
      "outputs": [
        {
          "output_type": "execute_result",
          "data": {
            "text/plain": [
              "50.0"
            ]
          },
          "metadata": {},
          "execution_count": 24
        }
      ]
    },
    {
      "cell_type": "markdown",
      "source": [
        "##3- Write a function to find the factorial of a number.\n",
        "\n",
        "Description: Implement a function that computes the factorial of a given number using recursion or iteration."
      ],
      "metadata": {
        "id": "-u-NJtTrPTea"
      }
    },
    {
      "cell_type": "code",
      "source": [
        "def fact(num):\n",
        "  factorial = 1\n",
        "  for i in range(1, num + 1):\n",
        "    factorial =factorial * i\n",
        "  return factorial\n",
        "\n",
        "\n"
      ],
      "metadata": {
        "id": "2akccZLMQTQA"
      },
      "execution_count": null,
      "outputs": []
    },
    {
      "cell_type": "code",
      "source": [
        "fact(5)"
      ],
      "metadata": {
        "colab": {
          "base_uri": "https://localhost:8080/"
        },
        "id": "pOnu2w4IQigh",
        "outputId": "6ffc8d4a-8375-472e-8392-c1c773bfe5eb"
      },
      "execution_count": null,
      "outputs": [
        {
          "output_type": "execute_result",
          "data": {
            "text/plain": [
              "120"
            ]
          },
          "metadata": {},
          "execution_count": 38
        }
      ]
    },
    {
      "cell_type": "markdown",
      "source": [
        "##4- Design a function to check if a given number is prime.\n",
        "Description: Develop a function that determines whether a given number is prime or not. A\n",
        "prime number is a natural number greater than 1 that has no positive divisors other than 1\n",
        "and itself."
      ],
      "metadata": {
        "id": "pvwh8Dez9WDs"
      }
    },
    {
      "cell_type": "code",
      "source": [
        "def prime(num):\n",
        "  if num <= 1:\n",
        "    return False\n",
        "  for i in range(2, int(num//2) + 1):\n",
        "    if num % i == 0:\n",
        "      return False\n",
        "  return True\n"
      ],
      "metadata": {
        "id": "FmoFUqm59xYW"
      },
      "execution_count": null,
      "outputs": []
    },
    {
      "cell_type": "code",
      "source": [
        "prime(71)"
      ],
      "metadata": {
        "colab": {
          "base_uri": "https://localhost:8080/"
        },
        "id": "VrBizRpp9xao",
        "outputId": "345ea181-366e-4b92-8cd2-7ada6864fbec"
      },
      "execution_count": null,
      "outputs": [
        {
          "output_type": "execute_result",
          "data": {
            "text/plain": [
              "True"
            ]
          },
          "metadata": {},
          "execution_count": 8
        }
      ]
    },
    {
      "cell_type": "markdown",
      "source": [
        "##5- Create a function that reverses a given string.\n",
        "Description: Define a function that takes a string as input and returns its reverse. For\n",
        "example, \"hello\" should be returned as \"olleh\"."
      ],
      "metadata": {
        "id": "fSatAP77_BSq"
      }
    },
    {
      "cell_type": "code",
      "source": [
        "def reverse_data(data):\n",
        "  return data[::-1]\n"
      ],
      "metadata": {
        "id": "rcsf1mpG9xc4"
      },
      "execution_count": null,
      "outputs": []
    },
    {
      "cell_type": "code",
      "source": [
        "reverse_data(\"hello\")"
      ],
      "metadata": {
        "colab": {
          "base_uri": "https://localhost:8080/",
          "height": 35
        },
        "id": "uhuIyggM9xhD",
        "outputId": "061c049c-1efc-4420-b374-942abd5d3d1f"
      },
      "execution_count": null,
      "outputs": [
        {
          "output_type": "execute_result",
          "data": {
            "text/plain": [
              "'olleh'"
            ],
            "application/vnd.google.colaboratory.intrinsic+json": {
              "type": "string"
            }
          },
          "metadata": {},
          "execution_count": 13
        }
      ]
    },
    {
      "cell_type": "markdown",
      "source": [
        "##6- Write a function to compute the nth Fibonacci number.\n",
        "Description: Implement a function that returns the nth Fibonacci number, where Fibonacci\n",
        "sequence starts with 0 and 1, and each subsequent number is the sum of the previous two."
      ],
      "metadata": {
        "id": "3Zje5Tnx_-Dg"
      }
    },
    {
      "cell_type": "code",
      "source": [
        "def fibonacci(n):\n",
        "  if n < 0:\n",
        "    return None\n",
        "  if n < 2:\n",
        "    return n\n",
        "  else:\n",
        "    return fibonacci(n - 1) + fibonacci(n - 2)"
      ],
      "metadata": {
        "id": "I6EbdICS9xlT"
      },
      "execution_count": null,
      "outputs": []
    },
    {
      "cell_type": "code",
      "source": [
        "fibonacci(32)"
      ],
      "metadata": {
        "colab": {
          "base_uri": "https://localhost:8080/"
        },
        "id": "XC0D0aZz9xnZ",
        "outputId": "a80cb551-7981-46bb-cfea-dc01a649f8f8"
      },
      "execution_count": null,
      "outputs": [
        {
          "output_type": "execute_result",
          "data": {
            "text/plain": [
              "2178309"
            ]
          },
          "metadata": {},
          "execution_count": 15
        }
      ]
    },
    {
      "cell_type": "markdown",
      "source": [
        "##7- Create a function to find the largest element in a list.\n",
        "Description: Develop a function that takes a list of numbers as input and returns the largest\n",
        "element present in the list."
      ],
      "metadata": {
        "id": "teXvBaKIAURC"
      }
    },
    {
      "cell_type": "code",
      "source": [
        "def maximum(list):\n",
        "    i = list[0]\n",
        "    for a in list:\n",
        "        if a > i:\n",
        "            i = a\n",
        "    return i\n"
      ],
      "metadata": {
        "id": "95iztTuT9xv9"
      },
      "execution_count": 6,
      "outputs": []
    },
    {
      "cell_type": "code",
      "source": [
        "maximum([6,7,8,9,10,11,12])"
      ],
      "metadata": {
        "id": "DBvjskm89xx8",
        "colab": {
          "base_uri": "https://localhost:8080/"
        },
        "outputId": "a6f34d66-7102-49e7-b6b2-2a9e2e53e5fc"
      },
      "execution_count": 7,
      "outputs": [
        {
          "output_type": "execute_result",
          "data": {
            "text/plain": [
              "12"
            ]
          },
          "metadata": {},
          "execution_count": 7
        }
      ]
    },
    {
      "cell_type": "code",
      "source": [],
      "metadata": {
        "id": "HqV91quE9xz9"
      },
      "execution_count": null,
      "outputs": []
    },
    {
      "cell_type": "code",
      "source": [],
      "metadata": {
        "id": "MsAnY6s_9x2H"
      },
      "execution_count": null,
      "outputs": []
    },
    {
      "cell_type": "code",
      "source": [],
      "metadata": {
        "id": "5RqzY_cb9x4E"
      },
      "execution_count": null,
      "outputs": []
    },
    {
      "cell_type": "code",
      "source": [],
      "metadata": {
        "id": "MN-ql2Gs9x6A"
      },
      "execution_count": null,
      "outputs": []
    },
    {
      "cell_type": "code",
      "source": [],
      "metadata": {
        "id": "HRTDhEly9x79"
      },
      "execution_count": null,
      "outputs": []
    },
    {
      "cell_type": "code",
      "source": [],
      "metadata": {
        "id": "vFEReYT59x_c"
      },
      "execution_count": null,
      "outputs": []
    }
  ]
}