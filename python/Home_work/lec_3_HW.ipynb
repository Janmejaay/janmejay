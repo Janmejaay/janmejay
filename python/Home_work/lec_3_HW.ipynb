{
  "nbformat": 4,
  "nbformat_minor": 0,
  "metadata": {
    "colab": {
      "provenance": []
    },
    "kernelspec": {
      "name": "python3",
      "display_name": "Python 3"
    },
    "language_info": {
      "name": "python"
    }
  },
  "cells": [
    {
      "cell_type": "markdown",
      "source": [
        "Q1 Write a Python program that accepts a string from user. Your program should create and display a new string where the first and last characters have been exchanged.\n",
        "\n",
        "For example if the user enters the string 'HELLO' then new string would be 'OELLH'"
      ],
      "metadata": {
        "id": "R7YYTlRTJGnu"
      }
    },
    {
      "cell_type": "code",
      "execution_count": null,
      "metadata": {
        "id": "xUgKDWcJJBwb",
        "colab": {
          "base_uri": "https://localhost:8080/"
        },
        "outputId": "502f10b2-9451-4ce4-fbda-1c3cc2857b08"
      },
      "outputs": [
        {
          "output_type": "stream",
          "name": "stdout",
          "text": [
            "Enter a stringAbhi\n",
            "ibhA\n"
          ]
        }
      ],
      "source": [
        "a=input(\"Enter a string\") #HELLO\n",
        "b=a[0] #  H\n",
        "c=a[-1] #  0\n",
        "d=a[1:-1] #  ELL\n",
        "print(c+d+b) #OELLH"
      ]
    },
    {
      "cell_type": "markdown",
      "source": [
        "Q2 Write a Python program that accepts a string from user. Your program should create a new string in reverse of first string and display it.\n",
        "\n",
        "For example if the user enters the string 'EXAM' then new string would be 'MAXE'"
      ],
      "metadata": {
        "id": "KlBKKZUfJLWy"
      }
    },
    {
      "cell_type": "code",
      "source": [
        "a=input(\"Enter a string\")\n",
        "print(a[::-1])"
      ],
      "metadata": {
        "id": "rGdKcBseJF_c",
        "colab": {
          "base_uri": "https://localhost:8080/"
        },
        "outputId": "a3e25ed1-d9e8-418b-8e86-d111813de7a4"
      },
      "execution_count": null,
      "outputs": [
        {
          "output_type": "stream",
          "name": "stdout",
          "text": [
            "Enter a stringjanmejay\n",
            "yajemnaj\n"
          ]
        }
      ]
    },
    {
      "cell_type": "markdown",
      "source": [
        "Q3 Write a Python program that accepts a string from user. Your program should create a new string by shifting one position to left.\n",
        "\n",
        "For example if the user enters the string 'examination 2021' then new string would be 'xamination 2021e'"
      ],
      "metadata": {
        "id": "vI6h0j6EJXN7"
      }
    },
    {
      "cell_type": "code",
      "source": [
        "info=input(\"Enter a string\")\n",
        "b=info[0]\n",
        "c=info[1::]\n",
        "print(c+b)"
      ],
      "metadata": {
        "id": "X_yXSRYhJhyV",
        "colab": {
          "base_uri": "https://localhost:8080/"
        },
        "outputId": "c6a24338-ea91-45a6-e91b-1db983854624"
      },
      "execution_count": 2,
      "outputs": [
        {
          "output_type": "stream",
          "name": "stdout",
          "text": [
            "Enter a stringexam 2\n",
            "xam 2e\n"
          ]
        }
      ]
    },
    {
      "cell_type": "markdown",
      "source": [
        "Q4 Write a Python program to calculate the length of a string."
      ],
      "metadata": {
        "id": "RcpZlQ1uJiHH"
      }
    },
    {
      "cell_type": "code",
      "source": [
        "b= input(\"enter a string = \")\n",
        "print(len(b))"
      ],
      "metadata": {
        "id": "tYfZmeLw1J9R",
        "colab": {
          "base_uri": "https://localhost:8080/"
        },
        "outputId": "43875bb8-ff02-41c9-d422-11d9db575180"
      },
      "execution_count": 38,
      "outputs": [
        {
          "output_type": "stream",
          "name": "stdout",
          "text": [
            "enter a string = janmejay amin\n",
            "13\n"
          ]
        }
      ]
    },
    {
      "cell_type": "markdown",
      "source": [
        "Q5 Write a Python program to get a string made of the first 2 and last 2 characters of a given string. If the string length is less than 2, return the empty string instead.\n",
        "Sample String : 'w3resource'\n",
        "Expected Result : 'w3ce'\n",
        "Sample String : 'w3'\n",
        "Expected Result : 'w3w3'\n",
        "Sample String : ' w'\n",
        "Expected Result : Empty String"
      ],
      "metadata": {
        "id": "kZ-tq4KG1KtZ"
      }
    },
    {
      "cell_type": "code",
      "source": [
        "string=input(\"Enter a string =\")\n",
        "\n",
        "if len(string)<2:\n",
        "  print(\"empty string\")\n",
        "else:\n",
        "  a=string #abhishek abek\n",
        "  b=a[:2]\n",
        "  c=a[-2:]\n",
        "  print(b+c)\n",
        "\n"
      ],
      "metadata": {
        "colab": {
          "base_uri": "https://localhost:8080/"
        },
        "id": "zdxzzru6ABVL",
        "outputId": "cfb12161-879c-4d7c-8ed6-75a7f2b317f4"
      },
      "execution_count": 36,
      "outputs": [
        {
          "output_type": "stream",
          "name": "stdout",
          "text": [
            "Enter a string =a\n",
            "empty string\n"
          ]
        }
      ]
    },
    {
      "cell_type": "code",
      "source": [
        "\n",
        "\n"
      ],
      "metadata": {
        "id": "k1UDXqBy1dlb"
      },
      "execution_count": null,
      "outputs": []
    },
    {
      "cell_type": "markdown",
      "source": [
        "Q6 Write a Python program to add 'ing' at the end of a given string (length should be at least 3). If the given string already ends with 'ing', add 'ly' instead. If the string length of the given string is less than 3, leave it unchanged.\n",
        "Sample String : 'abc'\n",
        "Expected Result : 'abcing'\n",
        "Sample String : 'string'\n",
        "Expected Result : 'stringly'"
      ],
      "metadata": {
        "id": "fLmjxBVH1dv7"
      }
    },
    {
      "cell_type": "code",
      "source": [
        "dd=input(\"enter information = \")\n",
        "if len(dd) < 3:\n",
        "        print(dd)\n",
        "\n",
        "elif dd!='ing':\n",
        "        print(dd + 'ly')\n",
        "else:\n",
        "  print(dd+'ing')\n"
      ],
      "metadata": {
        "id": "aDBLGj7o1xDG",
        "colab": {
          "base_uri": "https://localhost:8080/"
        },
        "outputId": "e60c1587-af9b-4f4d-85fa-7b1b580525e1"
      },
      "execution_count": 7,
      "outputs": [
        {
          "output_type": "stream",
          "name": "stdout",
          "text": [
            "enter information = jh\n",
            "jh\n"
          ]
        }
      ]
    },
    {
      "cell_type": "code",
      "source": [],
      "metadata": {
        "id": "p5qjETFlw1jE"
      },
      "execution_count": null,
      "outputs": []
    },
    {
      "cell_type": "markdown",
      "source": [
        "Q7 Write a Python program to remove the nth index character from a nonempty string."
      ],
      "metadata": {
        "id": "Ni87_gWx1yAM"
      }
    },
    {
      "cell_type": "code",
      "source": [
        "lol=input(\"enter information = \")\n"
      ],
      "metadata": {
        "id": "qQKUKvze2Kz0",
        "colab": {
          "base_uri": "https://localhost:8080/"
        },
        "outputId": "b9b6a9fe-0c3c-48ad-ae10-9bd41f466ff9"
      },
      "execution_count": 45,
      "outputs": [
        {
          "name": "stdout",
          "output_type": "stream",
          "text": [
            "enter information = janmejay\n"
          ]
        }
      ]
    },
    {
      "cell_type": "code",
      "source": [
        "print(lol.replace(\"m\",\" \"))"
      ],
      "metadata": {
        "colab": {
          "base_uri": "https://localhost:8080/"
        },
        "id": "ri_2OhwCDglz",
        "outputId": "37c8276b-aa09-4d99-fec6-e285dd1c017a"
      },
      "execution_count": 47,
      "outputs": [
        {
          "output_type": "stream",
          "name": "stdout",
          "text": [
            "jan ejay\n"
          ]
        }
      ]
    },
    {
      "cell_type": "markdown",
      "source": [
        "Q8 Write a Python program to change a given string to a newly string where the first and last chars have been exchanged."
      ],
      "metadata": {
        "id": "JV7rvO032LvA"
      }
    },
    {
      "cell_type": "code",
      "source": [
        "idk=input(\"enter information = \")\n",
        "a=idk[0]\n",
        "b=idk[1:-1]\n",
        "c=idk[-1]\n",
        "print(c+b+a)"
      ],
      "metadata": {
        "id": "OnyZ4Qms2TTJ",
        "colab": {
          "base_uri": "https://localhost:8080/"
        },
        "outputId": "86758ac4-1498-4840-8515-4a11bbb0ed6e"
      },
      "execution_count": 39,
      "outputs": [
        {
          "output_type": "stream",
          "name": "stdout",
          "text": [
            "enter information = janmejay\n",
            "yanmejaj\n"
          ]
        }
      ]
    },
    {
      "cell_type": "code",
      "source": [],
      "metadata": {
        "id": "ZoES5ZfxAAFQ"
      },
      "execution_count": null,
      "outputs": []
    },
    {
      "cell_type": "markdown",
      "source": [
        "Q9 Write a Python script that takes input from the user and displays that in upper and lower cases."
      ],
      "metadata": {
        "id": "pJHJGSEt2Tk5"
      }
    },
    {
      "cell_type": "code",
      "source": [
        "inp=input(\"enter information\")\n",
        "print(inp.upper(),\"             \",inp.lower())"
      ],
      "metadata": {
        "id": "Td98QnJk26YZ",
        "colab": {
          "base_uri": "https://localhost:8080/"
        },
        "outputId": "4acf90b9-c600-49d6-a6c1-c4396fc574ba"
      },
      "execution_count": 33,
      "outputs": [
        {
          "output_type": "stream",
          "name": "stdout",
          "text": [
            "enter informationhello\n",
            "HELLO               hello\n"
          ]
        }
      ]
    },
    {
      "cell_type": "markdown",
      "source": [
        "Thank You"
      ],
      "metadata": {
        "id": "eYKOjOg626sL"
      }
    }
  ]
}