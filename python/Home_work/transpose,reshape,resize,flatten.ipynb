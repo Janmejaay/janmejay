{
  "nbformat": 4,
  "nbformat_minor": 0,
  "metadata": {
    "colab": {
      "provenance": []
    },
    "kernelspec": {
      "name": "python3",
      "display_name": "Python 3"
    },
    "language_info": {
      "name": "python"
    }
  },
  "cells": [
    {
      "cell_type": "code",
      "source": [
        "import numpy as np"
      ],
      "metadata": {
        "id": "cRvr4hqpUCSz"
      },
      "execution_count": 3,
      "outputs": []
    },
    {
      "cell_type": "code",
      "source": [
        "may10= np.random.randint(1,20,(8,2))"
      ],
      "metadata": {
        "id": "0zp0mbKuWIR1"
      },
      "execution_count": 16,
      "outputs": []
    },
    {
      "cell_type": "code",
      "source": [
        "may11=np.transpose(may10)\n",
        "print(may11)"
      ],
      "metadata": {
        "colab": {
          "base_uri": "https://localhost:8080/"
        },
        "id": "ieoInEq2WIUa",
        "outputId": "c1e67164-6f07-4648-cf9f-63d4e025dd7b"
      },
      "execution_count": 17,
      "outputs": [
        {
          "output_type": "stream",
          "name": "stdout",
          "text": [
            "[[17 10 16 16 14 14 10 18]\n",
            " [ 6  7 18  8 10  9 17  2]]\n"
          ]
        }
      ]
    },
    {
      "cell_type": "code",
      "source": [
        "a=np.array([1,2,3,4,5,6])\n",
        "print(a)"
      ],
      "metadata": {
        "colab": {
          "base_uri": "https://localhost:8080/"
        },
        "id": "V-PKD-11WIWO",
        "outputId": "07a2a8ba-87b8-470b-9a4a-8d7a551b3489"
      },
      "execution_count": 18,
      "outputs": [
        {
          "output_type": "stream",
          "name": "stdout",
          "text": [
            "[1 2 3 4 5 6]\n"
          ]
        }
      ]
    },
    {
      "cell_type": "code",
      "source": [
        "new_shape=(2,3)\n",
        "b=np.reshape(a,new_shape)\n",
        "print(b)"
      ],
      "metadata": {
        "colab": {
          "base_uri": "https://localhost:8080/"
        },
        "id": "AvEs8_2YWIYm",
        "outputId": "1c80e5e3-7002-4764-b127-bb63633d7989"
      },
      "execution_count": 19,
      "outputs": [
        {
          "output_type": "stream",
          "name": "stdout",
          "text": [
            "[[1 2 3]\n",
            " [4 5 6]]\n"
          ]
        }
      ]
    },
    {
      "cell_type": "code",
      "source": [
        "a=np.array([1,2,3,4,5,6])\n",
        "print(a)"
      ],
      "metadata": {
        "colab": {
          "base_uri": "https://localhost:8080/"
        },
        "id": "c6GpJvm5WIaq",
        "outputId": "4a0c9a15-c4e3-4cd9-facf-df92676d3cfd"
      },
      "execution_count": 20,
      "outputs": [
        {
          "output_type": "stream",
          "name": "stdout",
          "text": [
            "[1 2 3 4 5 6]\n"
          ]
        }
      ]
    },
    {
      "cell_type": "code",
      "source": [
        "new=(2,3,4)\n",
        "b=np.resize(a,new)\n",
        "print(b)"
      ],
      "metadata": {
        "colab": {
          "base_uri": "https://localhost:8080/"
        },
        "id": "kNRFOokmWIdH",
        "outputId": "a3ed8412-1d43-43ad-896a-93b8f14aacb1"
      },
      "execution_count": 21,
      "outputs": [
        {
          "output_type": "stream",
          "name": "stdout",
          "text": [
            "[[[1 2 3 4]\n",
            "  [5 6 1 2]\n",
            "  [3 4 5 6]]\n",
            "\n",
            " [[1 2 3 4]\n",
            "  [5 6 1 2]\n",
            "  [3 4 5 6]]]\n"
          ]
        }
      ]
    },
    {
      "cell_type": "code",
      "source": [
        "b.flatten()"
      ],
      "metadata": {
        "colab": {
          "base_uri": "https://localhost:8080/"
        },
        "id": "A-3e_vfKWIfd",
        "outputId": "75a49881-2630-4b5b-cb55-06240a94d25d"
      },
      "execution_count": 22,
      "outputs": [
        {
          "output_type": "execute_result",
          "data": {
            "text/plain": [
              "array([1, 2, 3, 4, 5, 6, 1, 2, 3, 4, 5, 6, 1, 2, 3, 4, 5, 6, 1, 2, 3, 4,\n",
              "       5, 6])"
            ]
          },
          "metadata": {},
          "execution_count": 22
        }
      ]
    },
    {
      "cell_type": "code",
      "source": [
        "a=[1,2,3]\n",
        "b=a\n",
        "b[0]=10\n",
        "print(a)\n",
        "print(b)"
      ],
      "metadata": {
        "colab": {
          "base_uri": "https://localhost:8080/"
        },
        "id": "1YLNRLMvWIhs",
        "outputId": "1655597a-8da5-4d47-c3a9-9d7f4d39c742"
      },
      "execution_count": 23,
      "outputs": [
        {
          "output_type": "stream",
          "name": "stdout",
          "text": [
            "[10, 2, 3]\n",
            "[10, 2, 3]\n"
          ]
        }
      ]
    },
    {
      "cell_type": "code",
      "source": [
        "a=[1,2,3]\n",
        "b=a.copy()\n",
        "b[0]=10\n",
        "print(a)\n",
        "print(b)"
      ],
      "metadata": {
        "colab": {
          "base_uri": "https://localhost:8080/"
        },
        "id": "5XB-pCzdWIkK",
        "outputId": "4162fb72-be25-49ae-8c0a-372d3c0857bb"
      },
      "execution_count": 24,
      "outputs": [
        {
          "output_type": "stream",
          "name": "stdout",
          "text": [
            "[1, 2, 3]\n",
            "[10, 2, 3]\n"
          ]
        }
      ]
    },
    {
      "cell_type": "code",
      "source": [],
      "metadata": {
        "id": "VrYAEDwaWImy"
      },
      "execution_count": null,
      "outputs": []
    },
    {
      "cell_type": "markdown",
      "source": [
        "##Question 1: Transpose Array\n",
        "Given a 2D NumPy array arr_2d, transpose the array and print the result.\n",
        "\n",
        "Example Input:\n",
        "\n",
        "arr_2d = np.array([[1, 2, 3], [4, 5, 6]])\n"
      ],
      "metadata": {
        "id": "ESAI_smQeG36"
      }
    },
    {
      "cell_type": "code",
      "source": [
        "arr_2d=np.array([[1,2,3],[4,5,6]])"
      ],
      "metadata": {
        "id": "PHPNGx5YWIpW"
      },
      "execution_count": 25,
      "outputs": []
    },
    {
      "cell_type": "code",
      "source": [
        "arr2d1=np.transpose(arr_2d)\n",
        "arr2d1"
      ],
      "metadata": {
        "colab": {
          "base_uri": "https://localhost:8080/"
        },
        "id": "Ydjf5nqaWIru",
        "outputId": "4f06bb9e-08cd-414c-f4d2-c18d39d27b98"
      },
      "execution_count": 28,
      "outputs": [
        {
          "output_type": "execute_result",
          "data": {
            "text/plain": [
              "array([[1, 4],\n",
              "       [2, 5],\n",
              "       [3, 6]])"
            ]
          },
          "metadata": {},
          "execution_count": 28
        }
      ]
    },
    {
      "cell_type": "markdown",
      "source": [
        "##Question 2: Reshape Array\n",
        "Given a 1D NumPy array arr_1d, reshape it into a 3x2 array and print the result.\n",
        "\n",
        "Example Input:\n",
        "\n",
        "arr_1d = np.array([1, 2, 3, 4, 5, 6])\n",
        "\n"
      ],
      "metadata": {
        "id": "ANC_YpNieIj0"
      }
    },
    {
      "cell_type": "code",
      "source": [
        "arr_1d = np.array([1, 2, 3, 4, 5, 6])"
      ],
      "metadata": {
        "id": "G-4NpxIIWIuC"
      },
      "execution_count": 29,
      "outputs": []
    },
    {
      "cell_type": "code",
      "source": [
        "new=(3,2)\n",
        "b=np.reshape(arr_1d,new)\n",
        "print(b)"
      ],
      "metadata": {
        "colab": {
          "base_uri": "https://localhost:8080/"
        },
        "id": "lxuPFVTPeMBt",
        "outputId": "6be872b8-217d-4c29-c6a5-52ea27434455"
      },
      "execution_count": 30,
      "outputs": [
        {
          "output_type": "stream",
          "name": "stdout",
          "text": [
            "[[1 2]\n",
            " [3 4]\n",
            " [5 6]]\n"
          ]
        }
      ]
    },
    {
      "cell_type": "markdown",
      "source": [
        "##Question 3: Resize Array\n",
        "Given a 1D NumPy array arr_1d, resize it into a 3x3 array and print the result.\n",
        "\n",
        "Example Input:\n",
        "\n",
        "arr_1d = np.array([1, 2, 3, 4, 5, 6, 7, 8]) Example Output:\n",
        "\n",
        "Resized Array: [[1 2 3] [4 5 6] [7 8 1]]\n"
      ],
      "metadata": {
        "id": "QvLqC-stefUY"
      }
    },
    {
      "cell_type": "code",
      "source": [
        "arr_1d = np.array([1, 2, 3, 4, 5, 6, 7, 8])"
      ],
      "metadata": {
        "id": "n7PoKDYleMD8"
      },
      "execution_count": 4,
      "outputs": []
    },
    {
      "cell_type": "code",
      "source": [
        "new=(3,3)\n",
        "c=np.resize(arr_1d,new)\n",
        "c"
      ],
      "metadata": {
        "colab": {
          "base_uri": "https://localhost:8080/"
        },
        "id": "AdpZRPmLeMGJ",
        "outputId": "e98497ae-da91-4098-b854-bfb6febe2f8f"
      },
      "execution_count": 6,
      "outputs": [
        {
          "output_type": "execute_result",
          "data": {
            "text/plain": [
              "array([[1, 2, 3],\n",
              "       [4, 5, 6],\n",
              "       [7, 8, 1]])"
            ]
          },
          "metadata": {},
          "execution_count": 6
        }
      ]
    },
    {
      "cell_type": "markdown",
      "source": [
        "##Question 4: Flatten Array\n",
        "Given a 2D NumPy array arr_2d, flatten it and print the result.\n",
        "\n",
        "Example Input:\n",
        "\n",
        "arr_2d = np.array([[1, 2, 3], [4, 5, 6]]) Example Output:\n",
        "\n",
        "Flattened Array: [1 2 3 4 5 6]\n"
      ],
      "metadata": {
        "id": "FLZLGsJne8w-"
      }
    },
    {
      "cell_type": "code",
      "source": [
        "arr_2d = np.array([[1, 2, 3], [4, 5, 6]])"
      ],
      "metadata": {
        "id": "rVjH8twheMIP"
      },
      "execution_count": 7,
      "outputs": []
    },
    {
      "cell_type": "code",
      "source": [
        "arr_2d.flatten()"
      ],
      "metadata": {
        "colab": {
          "base_uri": "https://localhost:8080/"
        },
        "id": "_TkZzKFOeMKf",
        "outputId": "b9ed3799-5537-4e19-d91e-3e826fb80eec"
      },
      "execution_count": 9,
      "outputs": [
        {
          "output_type": "execute_result",
          "data": {
            "text/plain": [
              "array([1, 2, 3, 4, 5, 6])"
            ]
          },
          "metadata": {},
          "execution_count": 9
        }
      ]
    },
    {
      "cell_type": "markdown",
      "source": [
        "##Question 5: Transpose Array\n",
        "Given a 3D NumPy array arr_3d, transpose the array and print the result.\n",
        "\n",
        "Example Input:\n",
        "\n",
        "arr_3d = np.array([[[1, 2], [3, 4]], [[5, 6], [7, 8]], [[9, 10], [11, 12]]])\n",
        "\n",
        "Example Output:\n",
        "\n",
        "Transposed Array: [[[ 1 5 9] [ 2 6 10]]\n",
        "\n",
        "[[ 3 7 11] [ 4 8 12]]]\n"
      ],
      "metadata": {
        "id": "I8B1v5lbfGnf"
      }
    },
    {
      "cell_type": "code",
      "source": [
        "arr_3d = np.array([[[1, 2], [3, 4]], [[5, 6], [7, 8]], [[9, 10], [11, 12]]])"
      ],
      "metadata": {
        "id": "89zotyzzeMMu"
      },
      "execution_count": 10,
      "outputs": []
    },
    {
      "cell_type": "code",
      "source": [
        "arr=np.transpose(arr_3d)\n",
        "arr"
      ],
      "metadata": {
        "colab": {
          "base_uri": "https://localhost:8080/"
        },
        "id": "d3PqHwZveMO4",
        "outputId": "de0c5687-7419-4b26-ab51-4c1e058e0838"
      },
      "execution_count": 11,
      "outputs": [
        {
          "output_type": "execute_result",
          "data": {
            "text/plain": [
              "array([[[ 1,  5,  9],\n",
              "        [ 3,  7, 11]],\n",
              "\n",
              "       [[ 2,  6, 10],\n",
              "        [ 4,  8, 12]]])"
            ]
          },
          "metadata": {},
          "execution_count": 11
        }
      ]
    },
    {
      "cell_type": "markdown",
      "source": [
        "##Question 6: Reshape Array\n",
        "Given a 1D NumPy array arr_1d, reshape it into a 4x3 array and print the result.\n",
        "\n",
        "Example Input:\n",
        "\n",
        "arr_1d = np.array([1, 2, 3, 4, 5, 6, 7, 8, 9, 10, 11, 12])\n",
        "\n",
        "Example Output:\n",
        "\n",
        "Reshaped Array: [[ 1 2 3] [ 4 5 6] [ 7 8 9] [10 11 12]]\n"
      ],
      "metadata": {
        "id": "S43-oOCLfY3l"
      }
    },
    {
      "cell_type": "code",
      "source": [
        "arr_1d = np.array([1, 2, 3, 4, 5, 6, 7, 8, 9, 10, 11, 12])"
      ],
      "metadata": {
        "id": "xhguFfeHeMRM"
      },
      "execution_count": 12,
      "outputs": []
    },
    {
      "cell_type": "code",
      "source": [
        "b=np.reshape(arr_1d,(4,3))\n",
        "print(b)"
      ],
      "metadata": {
        "colab": {
          "base_uri": "https://localhost:8080/"
        },
        "id": "_WOlLGhDeMTf",
        "outputId": "1f7373dd-2070-419a-9eae-d5e67053ee62"
      },
      "execution_count": 14,
      "outputs": [
        {
          "output_type": "stream",
          "name": "stdout",
          "text": [
            "[[ 1  2  3]\n",
            " [ 4  5  6]\n",
            " [ 7  8  9]\n",
            " [10 11 12]]\n"
          ]
        }
      ]
    },
    {
      "cell_type": "markdown",
      "source": [
        "##Question 7: Resize Array\n",
        "Given a 2D NumPy array arr_2d, resize it into a 4x4 array and print the result.\n",
        "\n",
        "Example Input:\n",
        "\n",
        "arr_2d = np.array([[1, 2], [3, 4]])\n",
        "\n",
        "Example Output:\n",
        "\n",
        "Resized Array: [[1 2 1 2] [3 4 3 4] [1 2 1 2] [3 4 3 4]]\n"
      ],
      "metadata": {
        "id": "xo9UKb_FfmDi"
      }
    },
    {
      "cell_type": "code",
      "source": [
        "arr_2d = np.array([[1, 2], [3, 4]])"
      ],
      "metadata": {
        "id": "s_qjNjbCeMVd"
      },
      "execution_count": 15,
      "outputs": []
    },
    {
      "cell_type": "code",
      "source": [
        "arr=np.resize(arr_2d,(4,4))\n",
        "arr"
      ],
      "metadata": {
        "colab": {
          "base_uri": "https://localhost:8080/"
        },
        "id": "XS8FFTSveMXk",
        "outputId": "2dc949a9-2e07-4722-ec00-dc5678e153bf"
      },
      "execution_count": 17,
      "outputs": [
        {
          "output_type": "execute_result",
          "data": {
            "text/plain": [
              "array([[1, 2, 3, 4],\n",
              "       [1, 2, 3, 4],\n",
              "       [1, 2, 3, 4],\n",
              "       [1, 2, 3, 4]])"
            ]
          },
          "metadata": {},
          "execution_count": 17
        }
      ]
    },
    {
      "cell_type": "markdown",
      "source": [
        "##Question 8: Flatten Array\n",
        "Given a 3D NumPy array arr_3d, flatten it and print the result.\n",
        "\n",
        "Example Input:\n",
        "\n",
        "arr_3d = np.array([[[1, 2], [3, 4]], [[5, 6], [7, 8]]])\n",
        "\n",
        "Example Output:\n",
        "\n",
        "Flattened Array: [1 2 3 4 5 6 7 8]"
      ],
      "metadata": {
        "id": "p-9c8chbf9Wj"
      }
    },
    {
      "cell_type": "code",
      "source": [
        "arr_3d = np.array([[[1, 2], [3, 4]], [[5, 6], [7, 8]]])"
      ],
      "metadata": {
        "id": "wNAuyS7YeMZo"
      },
      "execution_count": 18,
      "outputs": []
    },
    {
      "cell_type": "code",
      "source": [
        "arr_3d.flatten()"
      ],
      "metadata": {
        "colab": {
          "base_uri": "https://localhost:8080/"
        },
        "id": "_qVKIowseMbp",
        "outputId": "74efcf3f-83b6-436e-9875-3a955dff1424"
      },
      "execution_count": 19,
      "outputs": [
        {
          "output_type": "execute_result",
          "data": {
            "text/plain": [
              "array([1, 2, 3, 4, 5, 6, 7, 8])"
            ]
          },
          "metadata": {},
          "execution_count": 19
        }
      ]
    },
    {
      "cell_type": "code",
      "source": [],
      "metadata": {
        "id": "J6LnVz8uUCVJ"
      },
      "execution_count": null,
      "outputs": []
    },
    {
      "cell_type": "code",
      "source": [],
      "metadata": {
        "id": "oweq0BigUCXZ"
      },
      "execution_count": null,
      "outputs": []
    },
    {
      "cell_type": "code",
      "source": [],
      "metadata": {
        "id": "DITjMybtUCZT"
      },
      "execution_count": null,
      "outputs": []
    },
    {
      "cell_type": "code",
      "source": [],
      "metadata": {
        "id": "Td3G_EefUCbr"
      },
      "execution_count": null,
      "outputs": []
    },
    {
      "cell_type": "code",
      "source": [],
      "metadata": {
        "id": "l56jt1FgUCdx"
      },
      "execution_count": null,
      "outputs": []
    }
  ]
}